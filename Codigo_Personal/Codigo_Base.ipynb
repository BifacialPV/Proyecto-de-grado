{
 "cells": [
  {
   "cell_type": "code",
   "execution_count": 1,
   "metadata": {},
   "outputs": [],
   "source": [
    "from tkinter import N\n",
    "from joblib import PrintTime\n",
    "import pvlib\n",
    "import os\n",
    "import pandas as pd\n",
    "import numpy as np\n",
    "import matplotlib.pyplot as plt\n",
    "import glob\n",
    "import daytime\n",
    "import Funciones  \n",
    "import seaborn as sns\n",
    "from scipy import stats\n",
    "from sklearn.metrics import mean_squared_error"
   ]
  },
  {
   "cell_type": "code",
   "execution_count": 2,
   "metadata": {},
   "outputs": [],
   "source": [
    "#Definir Zona Horaria\n",
    "tz = 'America/Bogota'\n",
    "lat, lon = 9.789103, -73.722451 # 9.789103, -73.722451 Esta es las coordenas\n",
    "altitude = 50"
   ]
  },
  {
   "cell_type": "code",
   "execution_count": 3,
   "metadata": {},
   "outputs": [],
   "source": [
    "location = pvlib.location.Location(lat, lon, tz, altitude)\n",
    "\n",
    "api_key = 'rMYPYAhkiXjb9WUAjQVU728EI59XhF2TeY9ml5cz'\n",
    "email = 'da.parral@uniandes.edu.co'\n",
    "elpaso_tmy, header = pvlib.iotools.get_psm3(lat, lon, api_key, email, \n",
    "                                            names='2020')"
   ]
  },
  {
   "cell_type": "code",
   "execution_count": 4,
   "metadata": {},
   "outputs": [
    {
     "data": {
      "text/html": [
       "<div>\n",
       "<style scoped>\n",
       "    .dataframe tbody tr th:only-of-type {\n",
       "        vertical-align: middle;\n",
       "    }\n",
       "\n",
       "    .dataframe tbody tr th {\n",
       "        vertical-align: top;\n",
       "    }\n",
       "\n",
       "    .dataframe thead th {\n",
       "        text-align: right;\n",
       "    }\n",
       "</style>\n",
       "<table border=\"1\" class=\"dataframe\">\n",
       "  <thead>\n",
       "    <tr style=\"text-align: right;\">\n",
       "      <th></th>\n",
       "      <th>Year</th>\n",
       "      <th>Month</th>\n",
       "      <th>Day</th>\n",
       "      <th>Hour</th>\n",
       "      <th>Minute</th>\n",
       "      <th>temp_air</th>\n",
       "      <th>Dew Point</th>\n",
       "      <th>dhi</th>\n",
       "      <th>dni</th>\n",
       "      <th>ghi</th>\n",
       "      <th>albedo</th>\n",
       "      <th>Pressure</th>\n",
       "      <th>Wind Direction</th>\n",
       "      <th>wind_speed</th>\n",
       "    </tr>\n",
       "  </thead>\n",
       "  <tbody>\n",
       "    <tr>\n",
       "      <th>2020-01-01 00:30:00-05:00</th>\n",
       "      <td>2020</td>\n",
       "      <td>1</td>\n",
       "      <td>1</td>\n",
       "      <td>0</td>\n",
       "      <td>30</td>\n",
       "      <td>26.0</td>\n",
       "      <td>22.3</td>\n",
       "      <td>0.0</td>\n",
       "      <td>0.0</td>\n",
       "      <td>0.0</td>\n",
       "      <td>0.18</td>\n",
       "      <td>998.0</td>\n",
       "      <td>64.0</td>\n",
       "      <td>0.1</td>\n",
       "    </tr>\n",
       "    <tr>\n",
       "      <th>2020-01-01 01:30:00-05:00</th>\n",
       "      <td>2020</td>\n",
       "      <td>1</td>\n",
       "      <td>1</td>\n",
       "      <td>1</td>\n",
       "      <td>30</td>\n",
       "      <td>25.6</td>\n",
       "      <td>22.1</td>\n",
       "      <td>0.0</td>\n",
       "      <td>0.0</td>\n",
       "      <td>0.0</td>\n",
       "      <td>0.18</td>\n",
       "      <td>997.0</td>\n",
       "      <td>106.0</td>\n",
       "      <td>0.0</td>\n",
       "    </tr>\n",
       "    <tr>\n",
       "      <th>2020-01-01 02:30:00-05:00</th>\n",
       "      <td>2020</td>\n",
       "      <td>1</td>\n",
       "      <td>1</td>\n",
       "      <td>2</td>\n",
       "      <td>30</td>\n",
       "      <td>25.3</td>\n",
       "      <td>21.5</td>\n",
       "      <td>0.0</td>\n",
       "      <td>0.0</td>\n",
       "      <td>0.0</td>\n",
       "      <td>0.18</td>\n",
       "      <td>997.0</td>\n",
       "      <td>112.0</td>\n",
       "      <td>0.0</td>\n",
       "    </tr>\n",
       "    <tr>\n",
       "      <th>2020-01-01 03:30:00-05:00</th>\n",
       "      <td>2020</td>\n",
       "      <td>1</td>\n",
       "      <td>1</td>\n",
       "      <td>3</td>\n",
       "      <td>30</td>\n",
       "      <td>25.0</td>\n",
       "      <td>21.0</td>\n",
       "      <td>0.0</td>\n",
       "      <td>0.0</td>\n",
       "      <td>0.0</td>\n",
       "      <td>0.18</td>\n",
       "      <td>997.0</td>\n",
       "      <td>83.0</td>\n",
       "      <td>0.0</td>\n",
       "    </tr>\n",
       "    <tr>\n",
       "      <th>2020-01-01 04:30:00-05:00</th>\n",
       "      <td>2020</td>\n",
       "      <td>1</td>\n",
       "      <td>1</td>\n",
       "      <td>4</td>\n",
       "      <td>30</td>\n",
       "      <td>24.6</td>\n",
       "      <td>20.6</td>\n",
       "      <td>0.0</td>\n",
       "      <td>0.0</td>\n",
       "      <td>0.0</td>\n",
       "      <td>0.18</td>\n",
       "      <td>997.0</td>\n",
       "      <td>59.0</td>\n",
       "      <td>0.0</td>\n",
       "    </tr>\n",
       "  </tbody>\n",
       "</table>\n",
       "</div>"
      ],
      "text/plain": [
       "                           Year  Month  Day  Hour  Minute  temp_air  \\\n",
       "2020-01-01 00:30:00-05:00  2020      1    1     0      30      26.0   \n",
       "2020-01-01 01:30:00-05:00  2020      1    1     1      30      25.6   \n",
       "2020-01-01 02:30:00-05:00  2020      1    1     2      30      25.3   \n",
       "2020-01-01 03:30:00-05:00  2020      1    1     3      30      25.0   \n",
       "2020-01-01 04:30:00-05:00  2020      1    1     4      30      24.6   \n",
       "\n",
       "                           Dew Point  dhi  dni  ghi  albedo  Pressure  \\\n",
       "2020-01-01 00:30:00-05:00       22.3  0.0  0.0  0.0    0.18     998.0   \n",
       "2020-01-01 01:30:00-05:00       22.1  0.0  0.0  0.0    0.18     997.0   \n",
       "2020-01-01 02:30:00-05:00       21.5  0.0  0.0  0.0    0.18     997.0   \n",
       "2020-01-01 03:30:00-05:00       21.0  0.0  0.0  0.0    0.18     997.0   \n",
       "2020-01-01 04:30:00-05:00       20.6  0.0  0.0  0.0    0.18     997.0   \n",
       "\n",
       "                           Wind Direction  wind_speed  \n",
       "2020-01-01 00:30:00-05:00            64.0         0.1  \n",
       "2020-01-01 01:30:00-05:00           106.0         0.0  \n",
       "2020-01-01 02:30:00-05:00           112.0         0.0  \n",
       "2020-01-01 03:30:00-05:00            83.0         0.0  \n",
       "2020-01-01 04:30:00-05:00            59.0         0.0  "
      ]
     },
     "execution_count": 4,
     "metadata": {},
     "output_type": "execute_result"
    }
   ],
   "source": [
    "tmy_columns_rename = ['Year', 'Month', 'Day', 'Hour', 'Minute', 'temp_air', 'Dew Point', 'dhi', 'dni', 'ghi', 'albedo', 'Pressure', 'Wind Direction', 'wind_speed']\n",
    "elpaso_tmy.columns = tmy_columns_rename\n",
    "elpaso_tmy.head()"
   ]
  },
  {
   "cell_type": "code",
   "execution_count": 5,
   "metadata": {},
   "outputs": [],
   "source": [
    "solpos = pvlib.solarposition.get_solarposition(elpaso_tmy.index, lat, lon)\n",
    "# remove nighttime\n",
    "elpaso_tmy = elpaso_tmy.loc[solpos['apparent_elevation'] > 0, :]\n",
    "solpos = solpos.loc[solpos['apparent_elevation'] > 0, :]\n"
   ]
  },
  {
   "cell_type": "code",
   "execution_count": 6,
   "metadata": {},
   "outputs": [],
   "source": [
    "tracker = pvlib.tracking.singleaxis(apparent_zenith=solpos.apparent_zenith, \n",
    "                                    apparent_azimuth=solpos.azimuth, \n",
    "                                    axis_tilt=0,\n",
    "                                    axis_azimuth=180, #Heading south\n",
    "                                    max_angle=45, \n",
    "                                    backtrack=True, \n",
    "                                    gcr=0.25)\n",
    "\n",
    "tracker = tracker.fillna(0)\n",
    "tracker.head()\n",
    "airmass = location.get_airmass(times=elpaso_tmy.index, \n",
    "                               solar_position=solpos, \n",
    "                               model='kastenyoung1989')\n",
    "\n",
    "airmass.head()\n",
    "etr_nrel = pvlib.irradiance.get_extra_radiation(datetime_or_doy=elpaso_tmy.index, \n",
    "                                          method='NREL', \n",
    "                                          solar_constant=1361);\n",
    "surface_albedo = pvlib.irradiance.SURFACE_ALBEDOS['soil']; # Check the surfaces albedo list with print(irradiance.SURFACE_ALBEDOS.items()) function\n",
    "solpos.to_csv(path_or_buf='path2')\n"
   ]
  },
  {
   "cell_type": "code",
   "execution_count": 7,
   "metadata": {},
   "outputs": [
    {
     "name": "stderr",
     "output_type": "stream",
     "text": [
      "C:\\Users\\dalpt\\AppData\\Local\\Programs\\Python\\Python310\\lib\\site-packages\\pvfactors\\geometry\\base.py:349: ShapelyDeprecationWarning: Setting custom attributes on geometry objects is deprecated, and will raise an AttributeError in Shapely 2.0\n",
      "  self.list_surfaces = list_surfaces\n",
      "C:\\Users\\dalpt\\AppData\\Local\\Programs\\Python\\Python310\\lib\\site-packages\\pvfactors\\geometry\\base.py:350: ShapelyDeprecationWarning: Setting custom attributes on geometry objects is deprecated, and will raise an AttributeError in Shapely 2.0\n",
      "  self.shaded = self._get_shading(shaded)\n",
      "C:\\Users\\dalpt\\AppData\\Local\\Programs\\Python\\Python310\\lib\\site-packages\\pvfactors\\geometry\\base.py:351: ShapelyDeprecationWarning: Setting custom attributes on geometry objects is deprecated, and will raise an AttributeError in Shapely 2.0\n",
      "  self.is_collinear = is_collinear(list_surfaces)\n",
      "C:\\Users\\dalpt\\AppData\\Local\\Programs\\Python\\Python310\\lib\\site-packages\\pvfactors\\geometry\\base.py:352: ShapelyDeprecationWarning: Setting custom attributes on geometry objects is deprecated, and will raise an AttributeError in Shapely 2.0\n",
      "  self.param_names = param_names\n",
      "C:\\Users\\dalpt\\AppData\\Local\\Programs\\Python\\Python310\\lib\\site-packages\\pvfactors\\geometry\\base.py:937: ShapelyDeprecationWarning: Setting custom attributes on geometry objects is deprecated, and will raise an AttributeError in Shapely 2.0\n",
      "  self.list_segments = tuple(list_segments)\n",
      "C:\\Users\\dalpt\\AppData\\Local\\Programs\\Python\\Python310\\lib\\site-packages\\pvfactors\\geometry\\base.py:938: ShapelyDeprecationWarning: Setting custom attributes on geometry objects is deprecated, and will raise an AttributeError in Shapely 2.0\n",
      "  self._all_surfaces = None\n",
      "C:\\Users\\dalpt\\AppData\\Local\\Programs\\Python\\Python310\\lib\\site-packages\\pvfactors\\viewfactors\\vfmethods.py:181: RuntimeWarning: invalid value encountered in true_divide\n",
      "  vf_pvrow_to_gnd_surf * pvrow_surf_length / gnd_surf_length, 0.)\n",
      "C:\\Users\\dalpt\\AppData\\Local\\Programs\\Python\\Python310\\lib\\site-packages\\pvfactors\\viewfactors\\vfmethods.py:181: RuntimeWarning: divide by zero encountered in true_divide\n",
      "  vf_pvrow_to_gnd_surf * pvrow_surf_length / gnd_surf_length, 0.)\n",
      "C:\\Users\\dalpt\\AppData\\Local\\Programs\\Python\\Python310\\lib\\site-packages\\pvfactors\\viewfactors\\vfmethods.py:607: RuntimeWarning: invalid value encountered in true_divide\n",
      "  vf_1_to_2 = np.abs(sum_2 - sum_1) / (2. * width_1)\n",
      "C:\\Users\\dalpt\\AppData\\Local\\Programs\\Python\\Python310\\lib\\site-packages\\pvfactors\\viewfactors\\vfmethods.py:531: RuntimeWarning: divide by zero encountered in true_divide\n",
      "  vf_1_to_2 = (d1 + d2 - l1 - l2) / (2. * width)\n",
      "C:\\Users\\dalpt\\AppData\\Local\\Programs\\Python\\Python310\\lib\\site-packages\\pvfactors\\viewfactors\\vfmethods.py:531: RuntimeWarning: invalid value encountered in true_divide\n",
      "  vf_1_to_2 = (d1 + d2 - l1 - l2) / (2. * width)\n",
      "C:\\Users\\dalpt\\AppData\\Local\\Programs\\Python\\Python310\\lib\\site-packages\\pvfactors\\viewfactors\\vfmethods.py:222: RuntimeWarning: invalid value encountered in true_divide\n",
      "  vf_i_to_j * length_i / length_j, 0.)\n",
      "C:\\Users\\dalpt\\AppData\\Local\\Programs\\Python\\Python310\\lib\\site-packages\\pvfactors\\viewfactors\\vfmethods.py:244: RuntimeWarning: invalid value encountered in true_divide\n",
      "  vf_i_to_j * length_i / length_j, 0.)\n"
     ]
    }
   ],
   "source": [
    "poa_front,poa_back,poa_frontabsorb,poa_backabsorb = pvlib.bifacial.pvfactors_timeseries(surface_tilt=tracker.surface_tilt, \n",
    "                                                                        surface_azimuth=tracker.surface_azimuth, \n",
    "                                                                        solar_zenith=solpos.zenith, \n",
    "                                                                        solar_azimuth=solpos.azimuth, \n",
    "                                                                        axis_azimuth=0,\n",
    "                                                                        timestamps=elpaso_tmy.index,\n",
    "                                                                        dni=elpaso_tmy.dni, \n",
    "                                                                        dhi=elpaso_tmy.dhi,\n",
    "                                                                        gcr=0.25,\n",
    "                                                                        pvrow_height=1,\n",
    "                                                                        pvrow_width=0.5,\n",
    "                                                                        #albedo=surface_albedo,\n",
    "                                                                        albedo=0.5, \n",
    "                                                                        n_pvrows=5,\n",
    "                                                                        index_observed_pvrow=4,\n",
    "                                                                        rho_back_pvrow=0.05,\n",
    "                                                                        rho_front_pvrow=0.03,\n",
    "                                                                        horizon_band_angle=15)\n"
   ]
  },
  {
   "cell_type": "code",
   "execution_count": 28,
   "metadata": {},
   "outputs": [
    {
     "name": "stderr",
     "output_type": "stream",
     "text": [
      "C:\\Users\\dalpt\\AppData\\Local\\Programs\\Python\\Python310\\lib\\site-packages\\pvfactors\\viewfactors\\vfmethods.py:181: RuntimeWarning: invalid value encountered in true_divide\n",
      "  vf_pvrow_to_gnd_surf * pvrow_surf_length / gnd_surf_length, 0.)\n",
      "C:\\Users\\dalpt\\AppData\\Local\\Programs\\Python\\Python310\\lib\\site-packages\\pvfactors\\viewfactors\\vfmethods.py:181: RuntimeWarning: divide by zero encountered in true_divide\n",
      "  vf_pvrow_to_gnd_surf * pvrow_surf_length / gnd_surf_length, 0.)\n",
      "C:\\Users\\dalpt\\AppData\\Local\\Programs\\Python\\Python310\\lib\\site-packages\\pvfactors\\viewfactors\\vfmethods.py:607: RuntimeWarning: invalid value encountered in true_divide\n",
      "  vf_1_to_2 = np.abs(sum_2 - sum_1) / (2. * width_1)\n",
      "C:\\Users\\dalpt\\AppData\\Local\\Programs\\Python\\Python310\\lib\\site-packages\\pvfactors\\viewfactors\\vfmethods.py:531: RuntimeWarning: divide by zero encountered in true_divide\n",
      "  vf_1_to_2 = (d1 + d2 - l1 - l2) / (2. * width)\n",
      "C:\\Users\\dalpt\\AppData\\Local\\Programs\\Python\\Python310\\lib\\site-packages\\pvfactors\\viewfactors\\vfmethods.py:531: RuntimeWarning: invalid value encountered in true_divide\n",
      "  vf_1_to_2 = (d1 + d2 - l1 - l2) / (2. * width)\n",
      "C:\\Users\\dalpt\\AppData\\Local\\Programs\\Python\\Python310\\lib\\site-packages\\pvfactors\\viewfactors\\vfmethods.py:222: RuntimeWarning: invalid value encountered in true_divide\n",
      "  vf_i_to_j * length_i / length_j, 0.)\n",
      "C:\\Users\\dalpt\\AppData\\Local\\Programs\\Python\\Python310\\lib\\site-packages\\pvfactors\\viewfactors\\vfmethods.py:244: RuntimeWarning: invalid value encountered in true_divide\n",
      "  vf_i_to_j * length_i / length_j, 0.)\n"
     ]
    }
   ],
   "source": [
    "poa_front_1,poa_back_1,poa_frontabsorb_1,poa_backabsorb_1 = pvlib.bifacial.pvfactors_timeseries(surface_tilt=tracker.surface_tilt, \n",
    "                                                                        surface_azimuth=tracker.surface_azimuth, \n",
    "                                                                        solar_zenith=solpos.zenith, \n",
    "                                                                        solar_azimuth=solpos.azimuth, \n",
    "                                                                        axis_azimuth=0,\n",
    "                                                                        timestamps=elpaso_tmy.index,\n",
    "                                                                        dni=elpaso_tmy.dni, \n",
    "                                                                        dhi=elpaso_tmy.dhi,\n",
    "                                                                        gcr=0.25,\n",
    "                                                                        pvrow_height=1,\n",
    "                                                                        pvrow_width=0.5,\n",
    "                                                                        #albedo=surface_albedo,\n",
    "                                                                        albedo=0.5, \n",
    "                                                                        n_pvrows=5,\n",
    "                                                                        index_observed_pvrow=1,\n",
    "                                                                        rho_back_pvrow=0.05,\n",
    "                                                                        rho_front_pvrow=0.03,\n",
    "                                                                        horizon_band_angle=15)\n"
   ]
  },
  {
   "cell_type": "code",
   "execution_count": 8,
   "metadata": {},
   "outputs": [],
   "source": [
    "poa_perez = pvlib.irradiance.get_total_irradiance(surface_tilt=tracker.surface_tilt, \n",
    "                                            surface_azimuth=tracker.surface_azimuth, \n",
    "                                            solar_zenith=solpos.apparent_zenith, \n",
    "                                            solar_azimuth=solpos.azimuth, \n",
    "                                            dni=elpaso_tmy.dni, \n",
    "                                            ghi=elpaso_tmy.ghi, \n",
    "                                            dhi=elpaso_tmy.dhi, \n",
    "                                            dni_extra=etr_nrel, \n",
    "                                            airmass=airmass.airmass_relative, \n",
    "                                            albedo=surface_albedo, \n",
    "                                            surface_type='soil', \n",
    "                                            model='perez', \n",
    "                                            model_perez='allsitescomposite1990')"
   ]
  },
  {
   "cell_type": "code",
   "execution_count": 9,
   "metadata": {},
   "outputs": [
    {
     "data": {
      "text/plain": [
       "<AxesSubplot:>"
      ]
     },
     "execution_count": 9,
     "metadata": {},
     "output_type": "execute_result"
    },
    {
     "data": {
      "image/png": "[encoded data removed]",
      "text/plain": [
       "<Figure size 432x288 with 1 Axes>"
      ]
     },
     "metadata": {
      "needs_background": "light"
     },
     "output_type": "display_data"
    }
   ],
   "source": [
    "\n",
    "poa_frontabsorb.plot()"
   ]
  },
  {
   "cell_type": "code",
   "execution_count": 10,
   "metadata": {},
   "outputs": [
    {
     "data": {
      "text/plain": [
       "<AxesSubplot:>"
      ]
     },
     "execution_count": 10,
     "metadata": {},
     "output_type": "execute_result"
    },
    {
     "data": {
      "image/png": "[encoded data removed]",
      "text/plain": [
       "<Figure size 432x288 with 1 Axes>"
      ]
     },
     "metadata": {
      "needs_background": "light"
     },
     "output_type": "display_data"
    }
   ],
   "source": [
    "poa_perez.poa_global.plot()"
   ]
  },
  {
   "cell_type": "code",
   "execution_count": 11,
   "metadata": {},
   "outputs": [
    {
     "name": "stderr",
     "output_type": "stream",
     "text": [
      "WARNING:matplotlib.font_manager:findfont: Font family ['Helvetica'] not found. Falling back to DejaVu Sans.\n",
      "WARNING:matplotlib.font_manager:findfont: Font family ['Helvetica'] not found. Falling back to DejaVu Sans.\n",
      "WARNING:matplotlib.font_manager:findfont: Font family ['Helvetica'] not found. Falling back to DejaVu Sans.\n"
     ]
    },
    {
     "data": {
      "image/png": "[encoded data removed]",
      "text/plain": [
       "<Figure size 432x288 with 1 Axes>"
      ]
     },
     "metadata": {
      "needs_background": "light"
     },
     "output_type": "display_data"
    },
    {
     "name": "stdout",
     "output_type": "stream",
     "text": [
      "R2:  0.9997\n",
      "RMSE:  1.06\n",
      "MAPE:  0.89\n"
     ]
    }
   ],
   "source": [
    "irrads = pd.DataFrame({'perez': poa_perez['poa_global'], \n",
    "                           'poa_front': poa_front})\n",
    "\n",
    "irrads = irrads.dropna()\n",
    "#Least Squares Linear Regression\n",
    "x_value = irrads.perez\n",
    "y_value = irrads.poa_front\n",
    "\n",
    "coef = np.polyfit(x_value, y_value, 1)\n",
    "poly1d_fn = np.poly1d(coef)\n",
    "\n",
    "slope, intercept, r_value, p_value, std_err = stats.linregress(x_value, \n",
    "                                                                  y_value)\n",
    "\n",
    "#Figure\n",
    "axis_lim = 1150\n",
    "\n",
    "x = np.linspace(0, axis_lim, axis_lim)\n",
    "y_reg = slope*x + intercept\n",
    "                        \n",
    "plt.figure()\n",
    "plt.plot(x_value, \n",
    "            poly1d_fn(x_value), \n",
    "            '--',\n",
    "            label=('ghi_mcp = ' + \n",
    "                  f'{slope.round(2)} $· \\:$ ghi $+ \\:$' + \n",
    "                  f'{intercept.round(2)} \\n $R^2 = $' \n",
    "                  + f'{r_value.round(4)}'), \n",
    "            color='#1580E4', linewidth=1.5, zorder = 10)\n",
    "\n",
    "plt.plot(x_value, y_value, color='black', ls='', \n",
    "            marker='.', ms=0.5, fillstyle='none')\n",
    "\n",
    "y = x\n",
    "plt.plot(x, y, '--', color='#222020', linewidth=0.5)\n",
    "\n",
    "Funciones.plot_specs(title=f'POA',\n",
    "            ylabel='$poa_{front}, W/m^2$',\n",
    "            xlabel='perez, $W/m^2$',\n",
    "            rot=0, \n",
    "            ylim_min=0, ylim_max=axis_lim, \n",
    "            xlim_min=0, xlim_max=axis_lim, \n",
    "            loc='best')\n",
    "                        \n",
    "plt.show()\n",
    "                        \n",
    "#METRICS\n",
    "Funciones.metrics(r2=r_value, measured=x_value, modeled=y_value, store=False)"
   ]
  },
  {
   "cell_type": "code",
   "execution_count": 12,
   "metadata": {},
   "outputs": [
    {
     "name": "stderr",
     "output_type": "stream",
     "text": [
      "WARNING:matplotlib.font_manager:findfont: Font family ['Helvetica'] not found. Falling back to DejaVu Sans.\n"
     ]
    },
    {
     "data": {
      "image/png": "[encoded data removed]",
      "text/plain": [
       "<Figure size 432x288 with 1 Axes>"
      ]
     },
     "metadata": {
      "needs_background": "light"
     },
     "output_type": "display_data"
    },
    {
     "name": "stdout",
     "output_type": "stream",
     "text": [
      "R2:  0.9997\n",
      "RMSE:  1.5\n",
      "MAPE:  2.37\n"
     ]
    }
   ],
   "source": [
    "irrads = pd.DataFrame({'perez': poa_perez['poa_global'], \n",
    "                           'poa_frontabsorb': poa_frontabsorb})\n",
    "\n",
    "irrads = irrads.dropna()\n",
    "#Least Squares Linear Regression\n",
    "x_value = irrads.perez\n",
    "y_value = irrads.poa_frontabsorb\n",
    "\n",
    "coef = np.polyfit(x_value, y_value, 1)\n",
    "poly1d_fn = np.poly1d(coef)\n",
    "\n",
    "slope, intercept, r_value, p_value, std_err = stats.linregress(x_value, \n",
    "                                                                  y_value)\n",
    "\n",
    "#Figure\n",
    "axis_lim = 1150\n",
    "\n",
    "x = np.linspace(0, axis_lim, axis_lim)\n",
    "y_reg = slope*x + intercept\n",
    "                        \n",
    "plt.figure()\n",
    "plt.plot(x_value, \n",
    "            poly1d_fn(x_value), \n",
    "            '--',\n",
    "            label=('poa_frontabs = ' + \n",
    "                  f'{slope.round(2)} $· \\:$ perez $+ \\:$' + \n",
    "                  f'{intercept.round(2)} \\n $R^2 = $' \n",
    "                  + f'{r_value.round(4)}'), \n",
    "            color='#1580E4', linewidth=1.5, zorder = 10)\n",
    "\n",
    "plt.plot(x_value, y_value, color='black', ls='', \n",
    "            marker='.', ms=0.5, fillstyle='none')\n",
    "\n",
    "y = x\n",
    "plt.plot(x, y, '--', color='#222020', linewidth=0.5)\n",
    "\n",
    "Funciones.plot_specs(title=f'POA',\n",
    "            ylabel='$poa_{frontabs}, W/m^2$',\n",
    "            xlabel='perez, $W/m^2$',\n",
    "            rot=0, \n",
    "            ylim_min=0, ylim_max=axis_lim, \n",
    "            xlim_min=0, xlim_max=axis_lim, \n",
    "            loc='best')\n",
    "                        \n",
    "                        \n",
    "plt.show()\n",
    "                        \n",
    "#METRICS\n",
    "Funciones.metrics(r2=r_value, measured=x_value, modeled=y_value, store=False)"
   ]
  },
  {
   "cell_type": "code",
   "execution_count": 13,
   "metadata": {},
   "outputs": [
    {
     "data": {
      "text/plain": [
       "<AxesSubplot:>"
      ]
     },
     "execution_count": 13,
     "metadata": {},
     "output_type": "execute_result"
    },
    {
     "data": {
      "image/png": "[encoded data removed]",
      "text/plain": [
       "<Figure size 432x288 with 1 Axes>"
      ]
     },
     "metadata": {
      "needs_background": "light"
     },
     "output_type": "display_data"
    }
   ],
   "source": [
    "\n",
    "poa_backabsorb.plot()\n",
    "\n"
   ]
  },
  {
   "cell_type": "code",
   "execution_count": 14,
   "metadata": {},
   "outputs": [
    {
     "name": "stdout",
     "output_type": "stream",
     "text": [
      "2020-11-28 06:30:00-05:00    3.892320e+01\n",
      "2020-11-28 07:30:00-05:00    4.184134e+02\n",
      "2020-11-28 08:30:00-05:00    6.862695e+02\n",
      "2020-11-28 09:30:00-05:00    7.703874e+02\n",
      "2020-11-28 10:30:00-05:00    6.678620e+02\n",
      "2020-11-28 11:30:00-05:00    6.736763e+02\n",
      "2020-11-28 12:30:00-05:00    6.249299e+02\n",
      "2020-11-28 13:30:00-05:00    6.528929e+02\n",
      "2020-11-28 14:30:00-05:00    6.972878e+02\n",
      "2020-11-28 15:30:00-05:00    5.231199e+02\n",
      "2020-11-28 16:30:00-05:00    3.148928e+02\n",
      "2020-11-28 17:30:00-05:00    4.638078e-12\n",
      "Name: total_abs_front, dtype: float64\n"
     ]
    },
    {
     "data": {
      "text/plain": [
       "<AxesSubplot:>"
      ]
     },
     "execution_count": 14,
     "metadata": {},
     "output_type": "execute_result"
    },
    {
     "data": {
      "image/png": "[encoded data removed]",
      "text/plain": [
       "<Figure size 432x288 with 1 Axes>"
      ]
     },
     "metadata": {
      "needs_background": "light"
     },
     "output_type": "display_data"
    }
   ],
   "source": [
    "fecha = '2020-11-28 '\n",
    "poa_1=poa_backabsorb[fecha+'00:00:00':fecha+'23:59:00']\n",
    "poa_2=poa_frontabsorb[fecha+'00:00:00':fecha+'23:59:00']\n",
    "print(poa_2)\n",
    "poa_1.plot()\n",
    "poa_2.plot()"
   ]
  },
  {
   "cell_type": "code",
   "execution_count": 15,
   "metadata": {},
   "outputs": [
    {
     "data": {
      "text/plain": [
       "<AxesSubplot:>"
      ]
     },
     "execution_count": 15,
     "metadata": {},
     "output_type": "execute_result"
    },
    {
     "data": {
      "image/png": "[encoded data removed]",
      "text/plain": [
       "<Figure size 432x288 with 1 Axes>"
      ]
     },
     "metadata": {
      "needs_background": "light"
     },
     "output_type": "display_data"
    }
   ],
   "source": [
    "fecha = '2020-11-28 '\n",
    "fecha2='2020-11-28 '\n",
    "poa_1=poa_backabsorb[fecha+'00:00:00':fecha2+'23:59:00']\n",
    "poa_2=poa_frontabsorb[fecha+'00:00:00':fecha2+'23:59:00']\n",
    "bg_opt=poa_1.truediv(poa_2)\n",
    "bg_opt\n",
    "bg_opt.plot()\n",
    "\n"
   ]
  },
  {
   "cell_type": "code",
   "execution_count": null,
   "metadata": {},
   "outputs": [],
   "source": []
  },
  {
   "cell_type": "markdown",
   "metadata": {},
   "source": [
    "# Calculo de la producción energetica total"
   ]
  },
  {
   "cell_type": "code",
   "execution_count": 16,
   "metadata": {},
   "outputs": [],
   "source": [
    "def irrad_total_bifacial(front,back, bifaciality):\n",
    "    try:\n",
    "        x=back.mul(bifaciality)\n",
    "        irrad=front.add(x)\n",
    "        return(irrad)\n",
    "    except: \n",
    "        print(\"irrad_total_bifacial failed\")"
   ]
  },
  {
   "cell_type": "code",
   "execution_count": 17,
   "metadata": {},
   "outputs": [
    {
     "data": {
      "text/plain": [
       "2020-01-01 06:30:00-05:00      35.241236\n",
       "2020-01-01 07:30:00-05:00     416.160577\n",
       "2020-01-01 08:30:00-05:00     651.879900\n",
       "2020-01-01 09:30:00-05:00     786.446423\n",
       "2020-01-01 10:30:00-05:00     851.010281\n",
       "                                ...     \n",
       "2020-12-31 13:30:00-05:00    1155.639064\n",
       "2020-12-31 14:30:00-05:00    1092.327449\n",
       "2020-12-31 15:30:00-05:00     940.377450\n",
       "2020-12-31 16:30:00-05:00     653.317243\n",
       "2020-12-31 17:30:00-05:00      61.936922\n",
       "Length: 4355, dtype: float64"
      ]
     },
     "execution_count": 17,
     "metadata": {},
     "output_type": "execute_result"
    }
   ],
   "source": [
    "irrad=irrad_total_bifacial(poa_frontabsorb,\n",
    "                            poa_backabsorb,0.95)\n",
    "irrad"
   ]
  },
  {
   "cell_type": "code",
   "execution_count": 18,
   "metadata": {},
   "outputs": [
    {
     "data": {
      "text/plain": [
       "<AxesSubplot:>"
      ]
     },
     "execution_count": 18,
     "metadata": {},
     "output_type": "execute_result"
    },
    {
     "data": {
      "image/png": "[encoded data removed]",
      "text/plain": [
       "<Figure size 432x288 with 1 Axes>"
      ]
     },
     "metadata": {
      "needs_background": "light"
     },
     "output_type": "display_data"
    }
   ],
   "source": [
    "fecha = '2020-05-07 '\n",
    "poa_1=poa_frontabsorb[fecha+'00:00:00':fecha+'23:59:00']\n",
    "irrad_1=irrad[fecha+'00:00:00':fecha+'23:59:00']\n",
    "\n",
    "poa_1.plot()\n",
    "irrad_1.plot()"
   ]
  },
  {
   "cell_type": "code",
   "execution_count": 19,
   "metadata": {},
   "outputs": [],
   "source": [
    "temp_cell = pvlib.temperature.sapm_module(poa_global=poa_front, \n",
    "                                        temp_air=elpaso_tmy.temp_air, \n",
    "                                        wind_speed=elpaso_tmy.wind_speed, \n",
    "                                        a=-3.56, \n",
    "                                        b=-0.075)\n"
   ]
  },
  {
   "cell_type": "code",
   "execution_count": 20,
   "metadata": {},
   "outputs": [
    {
     "name": "stdout",
     "output_type": "stream",
     "text": [
      "Technology            Mono-c-Si\n",
      "Bifacial                      1\n",
      "STC                      370.76\n",
      "PTC                       340.6\n",
      "A_c                        1.95\n",
      "Length                     1.99\n",
      "Width                      0.98\n",
      "N_s                          72\n",
      "I_sc_ref                   9.78\n",
      "V_oc_ref                   48.8\n",
      "I_mp_ref                    9.2\n",
      "V_mp_ref                   40.3\n",
      "alpha_sc               0.002934\n",
      "beta_oc                -0.13176\n",
      "T_NOCT                     46.8\n",
      "a_ref                  1.829992\n",
      "I_L_ref                9.790371\n",
      "I_o_ref                     0.0\n",
      "R_s                    0.311815\n",
      "R_sh_ref             294.038879\n",
      "Adjust                 8.790824\n",
      "gamma_r                   -0.37\n",
      "BIPV                          N\n",
      "Version       SAM 2018.11.11 r2\n",
      "Date                   1/3/2019\n",
      "Name: LG_Electronics_Inc__LG370N2T_A4, dtype: object\n"
     ]
    }
   ],
   "source": [
    "modules_database = 'CECMOD'\n",
    "modules = pvlib.pvsystem.retrieve_sam(modules_database)\n",
    "\n",
    "modules.to_csv(\"DB.csv\")\n",
    "module=modules.LG_Electronics_Inc__LG370N2T_A4\n",
    "print(module)"
   ]
  },
  {
   "cell_type": "code",
   "execution_count": 21,
   "metadata": {},
   "outputs": [
    {
     "name": "stdout",
     "output_type": "stream",
     "text": [
      "Vac                          690\n",
      "Pso                 12941.101563\n",
      "Paco                   1389080.0\n",
      "Pdco                   1421523.0\n",
      "Vdco                      1030.0\n",
      "C0                          -0.0\n",
      "C1                      0.000007\n",
      "C2                     -0.000112\n",
      "C3                      0.000557\n",
      "Pnt                      416.724\n",
      "Vdcmax                    1200.0\n",
      "Idcmax               1380.119417\n",
      "Mppt_low                   976.0\n",
      "Mppt_high                 1200.0\n",
      "CEC_Date              10/15/2018\n",
      "CEC_Type     Utility Interactive\n",
      "Name: Power_Electronics__FS1275CU15__690V_, dtype: object\n"
     ]
    }
   ],
   "source": [
    "inverters_database = 'CECInverter'\n",
    "inverters = pvlib.pvsystem.retrieve_sam(inverters_database)\n",
    "inverter = inverters.Power_Electronics__FS1275CU15__690V_\n",
    "print(inverter)"
   ]
  },
  {
   "cell_type": "code",
   "execution_count": 22,
   "metadata": {},
   "outputs": [],
   "source": [
    "#String Boxes 7\n",
    "mps_A = 30 #Modules Per String\n",
    "spi_A = 60 #Strings Per Inverter\n",
    "\n",
    "system_A = pvlib.pvsystem.PVSystem(module_parameters=module, \n",
    "                    inverter_parameters=inverter, \n",
    "                    modules_per_string=mps_A, \n",
    "                    strings_per_inverter=spi_A)"
   ]
  },
  {
   "cell_type": "code",
   "execution_count": 23,
   "metadata": {},
   "outputs": [],
   "source": [
    "def dc_production(effective_irradiance, module_temperature,module,system):\n",
    "    #Single Diode Parameters\n",
    "    IL, I0, Rs, Rsh, nNsVth = pvlib.pvsystem.calcparams_cec(effective_irradiance,\n",
    "                                                      module_temperature,\n",
    "                                                      module['alpha_sc'],\n",
    "                                                      module['a_ref'],\n",
    "                                                      module['I_L_ref'],\n",
    "                                                      module['I_o_ref'],\n",
    "                                                      module['R_sh_ref'],\n",
    "                                                      module['R_s'],\n",
    "                                                      module['Adjust'],\n",
    "                                                      EgRef=1.121,\n",
    "                                                      dEgdT=-0.0002677)\n",
    "\n",
    "    curve_info = pvlib.pvsystem.singlediode(photocurrent=IL,\n",
    "                                      saturation_current=I0,\n",
    "                                      resistance_series=Rs,\n",
    "                                      resistance_shunt=Rsh,\n",
    "                                      nNsVth=nNsVth,\n",
    "                                      ivcurve_pnts=100,\n",
    "                                      method='lambertw')\n",
    "\n",
    "    #Scalating CEC et. al. Single Diode Results\n",
    "    data_i_sc = pd.Series(curve_info['i_sc'])\n",
    "    data_v_oc = pd.Series(curve_info['v_oc'])\n",
    "    data_i_mp = pd.Series(curve_info['i_mp'])\n",
    "    data_v_mp = pd.Series(curve_info['v_mp'])\n",
    "    data_p_mp = pd.Series(curve_info['p_mp'])\n",
    "    data_i_x = pd.Series(curve_info['i_x'])\n",
    "    data_i_xx = pd.Series(curve_info['i_xx'])\n",
    "\n",
    "    results_general = pd.DataFrame({'i_sc': data_i_sc, \n",
    "                                    'v_oc': data_v_oc,\n",
    "                                    'i_mp': data_i_mp, \n",
    "                                    'v_mp': data_v_mp, \n",
    "                                    'p_mp': data_p_mp, \n",
    "                                    'i_x': data_i_x,\n",
    "                                    'i_xx': data_i_xx})\n",
    "\n",
    "    #DC Dataframe\n",
    "    datetime_index = effective_irradiance.index\n",
    "\n",
    "    dc = system.scale_voltage_current_power(results_general)\n",
    "    dc = dc.set_index(datetime_index)\n",
    "\n",
    "    \n",
    "    \n",
    "    return dc"
   ]
  },
  {
   "cell_type": "code",
   "execution_count": 24,
   "metadata": {},
   "outputs": [],
   "source": [
    "Dc_bi=dc_production(irrad,temp_cell,module,system_A)\n",
    "Dc=dc_production(poa_frontabsorb,temp_cell,module,system_A)"
   ]
  },
  {
   "cell_type": "code",
   "execution_count": 25,
   "metadata": {},
   "outputs": [],
   "source": [
    "def losses(dc, loss):\n",
    "\n",
    "    losses = loss/100 #According to the paper Performance Parameters for Grid-Connected PV Systems by NREL\n",
    "\n",
    "    #Losses System A\n",
    "    dc['i_mp'] = dc['i_mp'] - dc['i_mp']*losses\n",
    "    dc['p_mp'] = dc['p_mp'] - dc['p_mp']*losses\n",
    "\n",
    "\n",
    "    return dc"
   ]
  },
  {
   "cell_type": "code",
   "execution_count": 29,
   "metadata": {},
   "outputs": [
    {
     "data": {
      "text/plain": [
       "<AxesSubplot:>"
      ]
     },
     "execution_count": 29,
     "metadata": {},
     "output_type": "execute_result"
    },
    {
     "data": {
      "image/png": "[encoded data removed]",
      "text/plain": [
       "<Figure size 432x288 with 1 Axes>"
      ]
     },
     "metadata": {
      "needs_background": "light"
     },
     "output_type": "display_data"
    }
   ],
   "source": [
    "Dc_bi=losses(Dc_bi, 0.14)\n",
    "Dc=losses(Dc, 0.14)\n",
    "\n",
    "fecha = '2020-07-05 '\n",
    "Dc_1=Dc_bi[fecha+'00:00:00':fecha+'23:59:00']\n",
    "Dc_2=Dc[fecha+'00:00:00':fecha+'23:59:00']\n",
    "Dc_1[\"p_mp\"].plot()\n",
    "Dc_2[\"p_mp\"].plot()"
   ]
  },
  {
   "cell_type": "code",
   "execution_count": 30,
   "metadata": {},
   "outputs": [],
   "source": [
    "#PVlib (SAPM) AC Model\n",
    "def pvlib_ac_power(dc, total_inversores=4*12):\n",
    "    ac= pvlib.inverter.sandia(dc['v_mp'], dc['p_mp'], inverter)\n",
    "    \n",
    "    \n",
    "    pvlib_ac = ac * total_inversores\n",
    "    \n",
    "    pvlib_ac.loc[pvlib_ac < 0] = 0\n",
    "    pvlib_ac.fillna(value=0, inplace=True)\n",
    "    \n",
    "    return pvlib_ac"
   ]
  },
  {
   "cell_type": "code",
   "execution_count": null,
   "metadata": {},
   "outputs": [],
   "source": [
    "ac_bi=pvlib_ac_power(Dc_bi)\n",
    "ac_bi=pvlib_ac_power(Dc)"
   ]
  }
 ],
 "metadata": {
  "interpreter": {
   "hash": "b3e314750c276aac1f011cbd74cc4bcbf28dff617c954d9008f975df81dc146d"
  },
  "kernelspec": {
   "display_name": "Python 3.7.7 64-bit",
   "language": "python",
   "name": "python3"
  },
  "language_info": {
   "codemirror_mode": {
    "name": "ipython",
    "version": 3
   },
   "file_extension": ".py",
   "mimetype": "text/x-python",
   "name": "python",
   "nbconvert_exporter": "python",
   "pygments_lexer": "ipython3",
   "version": "3.10.2"
  },
  "orig_nbformat": 4
 },
 "nbformat": 4,
 "nbformat_minor": 2
}
