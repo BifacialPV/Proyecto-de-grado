{
 "cells": [
  {
   "cell_type": "code",
   "execution_count": 1,
   "metadata": {},
   "outputs": [],
   "source": [
    "from tkinter import N\n",
    "from joblib import PrintTime\n",
    "import pvlib\n",
    "import os\n",
    "import pandas as pd\n",
    "import numpy as np\n",
    "import matplotlib.pyplot as plt\n",
    "import glob\n",
    "import daytime\n",
    "import Funciones  \n",
    "import seaborn as sns\n",
    "from scipy import stats\n",
    "from sklearn.metrics import mean_squared_error"
   ]
  },
  {
   "cell_type": "markdown",
   "metadata": {},
   "source": [
    "# Locación a Evaluar\n",
    "Para esta investigación se decidió reducir las posibles a distintas partes de Colombia. se evaluará el efecto que tendrían distintos paneles "
   ]
  },
  {
   "cell_type": "code",
   "execution_count": 2,
   "metadata": {},
   "outputs": [],
   "source": [
    "tz = 'America/Bogota'\n",
    "#El paso\n",
    "lat, lon = 9.789103, -73.722451 # 9.789103, -73.722451 Esta es las coordenas\n",
    "altitude = 50\n",
    "#La guajira\n",
    "#lat, lon = 9.789103, -73.722451\n",
    "#\n",
    "location = pvlib.location.Location(lat, lon, tz, altitude)\n",
    "\n",
    "api_key = 'rMYPYAhkiXjb9WUAjQVU728EI59XhF2TeY9ml5cz'\n",
    "email = 'da.parral@uniandes.edu.co'\n",
    "tmy, header = pvlib.iotools.get_psm3(lat, lon, api_key, email, \n",
    "                                            names='2020')"
   ]
  },
  {
   "cell_type": "code",
   "execution_count": 3,
   "metadata": {},
   "outputs": [],
   "source": [
    "tmy_columns_rename = ['Year', 'Month', 'Day', 'Hour', 'Minute', 'temp_air', 'Dew Point', 'dhi', 'dni', 'ghi', 'albedo', 'Pressure', 'Wind Direction', 'wind_speed']\n",
    "tmy.columns = tmy_columns_rename\n"
   ]
  },
  {
   "cell_type": "code",
   "execution_count": 4,
   "metadata": {},
   "outputs": [],
   "source": [
    "solpos = pvlib.solarposition.get_solarposition(tmy.index, lat, lon)\n",
    "# remove nighttime\n",
    "tmy = tmy.loc[solpos['apparent_elevation'] > 0, :]\n",
    "solpos = solpos.loc[solpos['apparent_elevation'] > 0, :]"
   ]
  },
  {
   "cell_type": "markdown",
   "metadata": {},
   "source": [
    "# Funciones"
   ]
  },
  {
   "cell_type": "code",
   "execution_count": 5,
   "metadata": {},
   "outputs": [],
   "source": [
    "def irrad_total_bifacial(front,back, bifaciality):\n",
    "    try:\n",
    "        x=back.mul(bifaciality)\n",
    "        irrad=front.add(x)\n",
    "        return(irrad)\n",
    "    except: \n",
    "        print(\"irrad_total_bifacial failed\")"
   ]
  },
  {
   "cell_type": "code",
   "execution_count": 6,
   "metadata": {},
   "outputs": [],
   "source": [
    "def dc_production(effective_irradiance, module_temperature,module,system):\n",
    "    #Single Diode Parameters\n",
    "    IL, I0, Rs, Rsh, nNsVth = pvlib.pvsystem.calcparams_cec(effective_irradiance,\n",
    "                                                      module_temperature,\n",
    "                                                      module['alpha_sc'],\n",
    "                                                      module['a_ref'],\n",
    "                                                      module['I_L_ref'],\n",
    "                                                      module['I_o_ref'],\n",
    "                                                      module['R_sh_ref'],\n",
    "                                                      module['R_s'],\n",
    "                                                      module['Adjust'],\n",
    "                                                      EgRef=1.121,\n",
    "                                                      dEgdT=-0.0002677)\n",
    "\n",
    "    curve_info = pvlib.pvsystem.singlediode(photocurrent=IL,\n",
    "                                      saturation_current=I0,\n",
    "                                      resistance_series=Rs,\n",
    "                                      resistance_shunt=Rsh,\n",
    "                                      nNsVth=nNsVth,\n",
    "                                      ivcurve_pnts=100,\n",
    "                                      method='lambertw')\n",
    "\n",
    "    #Scalating CEC et. al. Single Diode Results\n",
    "    data_i_sc = pd.Series(curve_info['i_sc'])\n",
    "    data_v_oc = pd.Series(curve_info['v_oc'])\n",
    "    data_i_mp = pd.Series(curve_info['i_mp'])\n",
    "    data_v_mp = pd.Series(curve_info['v_mp'])\n",
    "    data_p_mp = pd.Series(curve_info['p_mp'])\n",
    "    data_i_x = pd.Series(curve_info['i_x'])\n",
    "    data_i_xx = pd.Series(curve_info['i_xx'])\n",
    "\n",
    "    results_general = pd.DataFrame({'i_sc': data_i_sc, \n",
    "                                    'v_oc': data_v_oc,\n",
    "                                    'i_mp': data_i_mp, \n",
    "                                    'v_mp': data_v_mp, \n",
    "                                    'p_mp': data_p_mp, \n",
    "                                    'i_x': data_i_x,\n",
    "                                    'i_xx': data_i_xx})\n",
    "\n",
    "    #DC Dataframe\n",
    "    datetime_index = effective_irradiance.index\n",
    "\n",
    "    dc = system.scale_voltage_current_power(results_general)\n",
    "    dc = dc.set_index(datetime_index)\n",
    "\n",
    "    \n",
    "    \n",
    "    return dc"
   ]
  },
  {
   "cell_type": "code",
   "execution_count": 7,
   "metadata": {},
   "outputs": [],
   "source": [
    "def losses(dc, loss):\n",
    "\n",
    "    losses = loss/100 #According to the paper Performance Parameters for Grid-Connected PV Systems by NREL\n",
    "\n",
    "    #Losses System A\n",
    "    dc['i_mp'] = dc['i_mp'] - dc['i_mp']*losses\n",
    "    dc['p_mp'] = dc['p_mp'] - dc['p_mp']*losses\n",
    "\n",
    "\n",
    "    return dc"
   ]
  },
  {
   "cell_type": "code",
   "execution_count": 8,
   "metadata": {},
   "outputs": [],
   "source": [
    "def pvlib_ac_power(dc,inverter, total_inversores=1):\n",
    "    ac= pvlib.inverter.sandia(dc['v_mp'], dc['p_mp'], inverter)\n",
    "    \n",
    "    \n",
    "    pvlib_ac = ac * total_inversores\n",
    "    \n",
    "    pvlib_ac.loc[pvlib_ac < 0] = 0\n",
    "    pvlib_ac.fillna(value=0, inplace=True)\n",
    "    \n",
    "    return pvlib_ac"
   ]
  },
  {
   "cell_type": "markdown",
   "metadata": {},
   "source": [
    "# Especificaciones"
   ]
  },
  {
   "cell_type": "code",
   "execution_count": 9,
   "metadata": {},
   "outputs": [
    {
     "name": "stdout",
     "output_type": "stream",
     "text": [
      "Technology            Mono-c-Si\n",
      "Bifacial                      1\n",
      "STC                      370.76\n",
      "PTC                       340.6\n",
      "A_c                        1.95\n",
      "Length                     1.99\n",
      "Width                      0.98\n",
      "N_s                          72\n",
      "I_sc_ref                   9.78\n",
      "V_oc_ref                   48.8\n",
      "I_mp_ref                    9.2\n",
      "V_mp_ref                   40.3\n",
      "alpha_sc               0.002934\n",
      "beta_oc                -0.13176\n",
      "T_NOCT                     46.8\n",
      "a_ref                  1.829992\n",
      "I_L_ref                9.790371\n",
      "I_o_ref                     0.0\n",
      "R_s                    0.311815\n",
      "R_sh_ref             294.038879\n",
      "Adjust                 8.790824\n",
      "gamma_r                   -0.37\n",
      "BIPV                          N\n",
      "Version       SAM 2018.11.11 r2\n",
      "Date                   1/3/2019\n",
      "Name: LG_Electronics_Inc__LG370N2T_A4, dtype: object\n"
     ]
    }
   ],
   "source": [
    "modules_database = 'CECMOD'\n",
    "modules = pvlib.pvsystem.retrieve_sam(modules_database)\n",
    "\n",
    "modules.to_csv(\"DB.csv\")\n",
    "module=modules.LG_Electronics_Inc__LG370N2T_A4\n",
    "print(module)"
   ]
  },
  {
   "cell_type": "code",
   "execution_count": 10,
   "metadata": {},
   "outputs": [
    {
     "name": "stdout",
     "output_type": "stream",
     "text": [
      "Vac                          690\n",
      "Pso                 12941.101563\n",
      "Paco                   1389080.0\n",
      "Pdco                   1421523.0\n",
      "Vdco                      1030.0\n",
      "C0                          -0.0\n",
      "C1                      0.000007\n",
      "C2                     -0.000112\n",
      "C3                      0.000557\n",
      "Pnt                      416.724\n",
      "Vdcmax                    1200.0\n",
      "Idcmax               1380.119417\n",
      "Mppt_low                   976.0\n",
      "Mppt_high                 1200.0\n",
      "CEC_Date              10/15/2018\n",
      "CEC_Type     Utility Interactive\n",
      "Name: Power_Electronics__FS1275CU15__690V_, dtype: object\n"
     ]
    }
   ],
   "source": [
    "inverters_database = 'CECInverter'\n",
    "inverters = pvlib.pvsystem.retrieve_sam(inverters_database)\n",
    "inverterx = inverters.Power_Electronics__FS1275CU15__690V_\n",
    "print(inverterx)"
   ]
  },
  {
   "cell_type": "code",
   "execution_count": 11,
   "metadata": {},
   "outputs": [],
   "source": [
    "mps_A = 30 #Modules Per String\n",
    "spi_A = 150 #Strings Per Inverter\n",
    "\n",
    "\n",
    "system_A = pvlib.pvsystem.PVSystem(module_parameters=module, \n",
    "                    inverter_parameters=inverterx, \n",
    "                    modules_per_string=mps_A, \n",
    "                    strings_per_inverter=spi_A)"
   ]
  },
  {
   "cell_type": "markdown",
   "metadata": {},
   "source": [
    "# Evaluación de Altura y albedo\n"
   ]
  },
  {
   "cell_type": "markdown",
   "metadata": {},
   "source": [
    "## Parametros "
   ]
  },
  {
   "cell_type": "code",
   "execution_count": 12,
   "metadata": {},
   "outputs": [],
   "source": [
    "#Parametros\n",
    "height=2\n",
    "albedo=0.5\n",
    "gcr=0.5\n",
    "Backtrack=True\n",
    "axis_azimuth=180\n",
    "axis_tilt=0\n",
    "max_angle=60\n",
    "pvrow_width=0.98\n",
    "bifacialty=0.95\n"
   ]
  },
  {
   "cell_type": "markdown",
   "metadata": {},
   "source": [
    "Puntos a evaluar para hacer gráficas de contorno"
   ]
  },
  {
   "cell_type": "code",
   "execution_count": 13,
   "metadata": {},
   "outputs": [],
   "source": [
    "#[altura,gcr,ProduciónAc,]\n",
    "Puntos=[[1,0.15],\n",
    "        [1,0.25],\n",
    "        [1,0.5],\n",
    "        [1,0.75],\n",
    "        [1.5,0.15],\n",
    "        [1.5,0.25],\n",
    "        [1.5,0.5],\n",
    "        [1.5,0.75],\n",
    "        [2,0.15],\n",
    "        [2,0.25],\n",
    "        [2,0.5],\n",
    "        [2,0.75],\n",
    "        [2.5,0.15],\n",
    "        [2.5,0.25],\n",
    "        [2.5,0.5],\n",
    "        [2.5,0.75]]\n",
    "Puntos_sol=Puntos.copy()\n",
    "Dimension=4"
   ]
  },
  {
   "cell_type": "code",
   "execution_count": 14,
   "metadata": {},
   "outputs": [],
   "source": [
    "tracker = pvlib.tracking.singleaxis(apparent_zenith=solpos.apparent_zenith, \n",
    "                                    apparent_azimuth=solpos.azimuth, \n",
    "                                    axis_tilt=axis_tilt,\n",
    "                                    axis_azimuth=axis_azimuth, #Heading south\n",
    "                                    max_angle=max_angle, \n",
    "                                    backtrack=Backtrack, \n",
    "                                    gcr=gcr)\n",
    "tracker = tracker.fillna(0)"
   ]
  },
  {
   "cell_type": "code",
   "execution_count": 15,
   "metadata": {},
   "outputs": [
    {
     "name": "stderr",
     "output_type": "stream",
     "text": [
      "C:\\Users\\dalpt\\AppData\\Local\\Programs\\Python\\Python310\\lib\\site-packages\\pvfactors\\geometry\\base.py:349: ShapelyDeprecationWarning: Setting custom attributes on geometry objects is deprecated, and will raise an AttributeError in Shapely 2.0\n",
      "  self.list_surfaces = list_surfaces\n",
      "C:\\Users\\dalpt\\AppData\\Local\\Programs\\Python\\Python310\\lib\\site-packages\\pvfactors\\geometry\\base.py:350: ShapelyDeprecationWarning: Setting custom attributes on geometry objects is deprecated, and will raise an AttributeError in Shapely 2.0\n",
      "  self.shaded = self._get_shading(shaded)\n",
      "C:\\Users\\dalpt\\AppData\\Local\\Programs\\Python\\Python310\\lib\\site-packages\\pvfactors\\geometry\\base.py:351: ShapelyDeprecationWarning: Setting custom attributes on geometry objects is deprecated, and will raise an AttributeError in Shapely 2.0\n",
      "  self.is_collinear = is_collinear(list_surfaces)\n",
      "C:\\Users\\dalpt\\AppData\\Local\\Programs\\Python\\Python310\\lib\\site-packages\\pvfactors\\geometry\\base.py:352: ShapelyDeprecationWarning: Setting custom attributes on geometry objects is deprecated, and will raise an AttributeError in Shapely 2.0\n",
      "  self.param_names = param_names\n",
      "C:\\Users\\dalpt\\AppData\\Local\\Programs\\Python\\Python310\\lib\\site-packages\\pvfactors\\geometry\\base.py:937: ShapelyDeprecationWarning: Setting custom attributes on geometry objects is deprecated, and will raise an AttributeError in Shapely 2.0\n",
      "  self.list_segments = tuple(list_segments)\n",
      "C:\\Users\\dalpt\\AppData\\Local\\Programs\\Python\\Python310\\lib\\site-packages\\pvfactors\\geometry\\base.py:938: ShapelyDeprecationWarning: Setting custom attributes on geometry objects is deprecated, and will raise an AttributeError in Shapely 2.0\n",
      "  self._all_surfaces = None\n",
      "C:\\Users\\dalpt\\AppData\\Local\\Programs\\Python\\Python310\\lib\\site-packages\\pvfactors\\viewfactors\\vfmethods.py:181: RuntimeWarning: invalid value encountered in true_divide\n",
      "  vf_pvrow_to_gnd_surf * pvrow_surf_length / gnd_surf_length, 0.)\n",
      "C:\\Users\\dalpt\\AppData\\Local\\Programs\\Python\\Python310\\lib\\site-packages\\pvfactors\\viewfactors\\vfmethods.py:181: RuntimeWarning: divide by zero encountered in true_divide\n",
      "  vf_pvrow_to_gnd_surf * pvrow_surf_length / gnd_surf_length, 0.)\n",
      "C:\\Users\\dalpt\\AppData\\Local\\Programs\\Python\\Python310\\lib\\site-packages\\pvfactors\\viewfactors\\vfmethods.py:607: RuntimeWarning: invalid value encountered in true_divide\n",
      "  vf_1_to_2 = np.abs(sum_2 - sum_1) / (2. * width_1)\n",
      "C:\\Users\\dalpt\\AppData\\Local\\Programs\\Python\\Python310\\lib\\site-packages\\pvfactors\\viewfactors\\vfmethods.py:531: RuntimeWarning: divide by zero encountered in true_divide\n",
      "  vf_1_to_2 = (d1 + d2 - l1 - l2) / (2. * width)\n",
      "C:\\Users\\dalpt\\AppData\\Local\\Programs\\Python\\Python310\\lib\\site-packages\\pvfactors\\viewfactors\\vfmethods.py:531: RuntimeWarning: invalid value encountered in true_divide\n",
      "  vf_1_to_2 = (d1 + d2 - l1 - l2) / (2. * width)\n",
      "C:\\Users\\dalpt\\AppData\\Local\\Programs\\Python\\Python310\\lib\\site-packages\\pvfactors\\viewfactors\\vfmethods.py:222: RuntimeWarning: invalid value encountered in true_divide\n",
      "  vf_i_to_j * length_i / length_j, 0.)\n",
      "C:\\Users\\dalpt\\AppData\\Local\\Programs\\Python\\Python310\\lib\\site-packages\\pvfactors\\viewfactors\\vfmethods.py:244: RuntimeWarning: invalid value encountered in true_divide\n",
      "  vf_i_to_j * length_i / length_j, 0.)\n"
     ]
    }
   ],
   "source": [
    "poa_front,poa_back,poa_frontabsorb,poa_backabsorb = pvlib.bifacial.pvfactors_timeseries(surface_tilt=tracker.surface_tilt, \n",
    "                                                                        surface_azimuth=tracker.surface_azimuth, \n",
    "                                                                        solar_zenith=solpos.zenith, \n",
    "                                                                        solar_azimuth=solpos.azimuth, \n",
    "                                                                        axis_azimuth=axis_azimuth,\n",
    "                                                                        timestamps=tmy.index,\n",
    "                                                                        dni=tmy.dni, \n",
    "                                                                        dhi=tmy.dhi,\n",
    "                                                                        gcr=gcr,\n",
    "                                                                        pvrow_height=height,\n",
    "                                                                        pvrow_width=2*pvrow_width,\n",
    "                                                                        #albedo=surface_albedo,\n",
    "                                                                        albedo=albedo, \n",
    "                                                                        n_pvrows=3,\n",
    "                                                                        index_observed_pvrow=1,\n",
    "                                                                        rho_back_pvrow=0.05,\n",
    "                                                                        rho_front_pvrow=0.03,\n",
    "                                                                        horizon_band_angle=15)"
   ]
  },
  {
   "cell_type": "code",
   "execution_count": 16,
   "metadata": {},
   "outputs": [],
   "source": [
    "temp_cell = pvlib.temperature.sapm_module(poa_global=poa_front, \n",
    "                                        temp_air=tmy.temp_air, \n",
    "                                        wind_speed=tmy.wind_speed, \n",
    "                                        a=-3.56, \n",
    "                                        b=-0.075)"
   ]
  },
  {
   "cell_type": "markdown",
   "metadata": {},
   "source": [
    "## Código iterativo Bifacial"
   ]
  },
  {
   "cell_type": "code",
   "execution_count": 17,
   "metadata": {},
   "outputs": [
    {
     "name": "stderr",
     "output_type": "stream",
     "text": [
      "C:\\Users\\dalpt\\AppData\\Local\\Programs\\Python\\Python310\\lib\\site-packages\\pvfactors\\viewfactors\\vfmethods.py:181: RuntimeWarning: invalid value encountered in true_divide\n",
      "  vf_pvrow_to_gnd_surf * pvrow_surf_length / gnd_surf_length, 0.)\n",
      "C:\\Users\\dalpt\\AppData\\Local\\Programs\\Python\\Python310\\lib\\site-packages\\pvfactors\\viewfactors\\vfmethods.py:181: RuntimeWarning: divide by zero encountered in true_divide\n",
      "  vf_pvrow_to_gnd_surf * pvrow_surf_length / gnd_surf_length, 0.)\n",
      "C:\\Users\\dalpt\\AppData\\Local\\Programs\\Python\\Python310\\lib\\site-packages\\pvfactors\\viewfactors\\vfmethods.py:607: RuntimeWarning: invalid value encountered in true_divide\n",
      "  vf_1_to_2 = np.abs(sum_2 - sum_1) / (2. * width_1)\n",
      "C:\\Users\\dalpt\\AppData\\Local\\Programs\\Python\\Python310\\lib\\site-packages\\pvfactors\\viewfactors\\vfmethods.py:531: RuntimeWarning: divide by zero encountered in true_divide\n",
      "  vf_1_to_2 = (d1 + d2 - l1 - l2) / (2. * width)\n",
      "C:\\Users\\dalpt\\AppData\\Local\\Programs\\Python\\Python310\\lib\\site-packages\\pvfactors\\viewfactors\\vfmethods.py:531: RuntimeWarning: invalid value encountered in true_divide\n",
      "  vf_1_to_2 = (d1 + d2 - l1 - l2) / (2. * width)\n",
      "C:\\Users\\dalpt\\AppData\\Local\\Programs\\Python\\Python310\\lib\\site-packages\\pvfactors\\viewfactors\\vfmethods.py:222: RuntimeWarning: invalid value encountered in true_divide\n",
      "  vf_i_to_j * length_i / length_j, 0.)\n",
      "C:\\Users\\dalpt\\AppData\\Local\\Programs\\Python\\Python310\\lib\\site-packages\\pvfactors\\viewfactors\\vfmethods.py:244: RuntimeWarning: invalid value encountered in true_divide\n",
      "  vf_i_to_j * length_i / length_j, 0.)\n",
      "C:\\Users\\dalpt\\AppData\\Local\\Programs\\Python\\Python310\\lib\\site-packages\\pvfactors\\viewfactors\\vfmethods.py:181: RuntimeWarning: invalid value encountered in true_divide\n",
      "  vf_pvrow_to_gnd_surf * pvrow_surf_length / gnd_surf_length, 0.)\n",
      "C:\\Users\\dalpt\\AppData\\Local\\Programs\\Python\\Python310\\lib\\site-packages\\pvfactors\\viewfactors\\vfmethods.py:181: RuntimeWarning: divide by zero encountered in true_divide\n",
      "  vf_pvrow_to_gnd_surf * pvrow_surf_length / gnd_surf_length, 0.)\n",
      "C:\\Users\\dalpt\\AppData\\Local\\Programs\\Python\\Python310\\lib\\site-packages\\pvfactors\\viewfactors\\vfmethods.py:607: RuntimeWarning: invalid value encountered in true_divide\n",
      "  vf_1_to_2 = np.abs(sum_2 - sum_1) / (2. * width_1)\n",
      "C:\\Users\\dalpt\\AppData\\Local\\Programs\\Python\\Python310\\lib\\site-packages\\pvfactors\\viewfactors\\vfmethods.py:531: RuntimeWarning: divide by zero encountered in true_divide\n",
      "  vf_1_to_2 = (d1 + d2 - l1 - l2) / (2. * width)\n",
      "C:\\Users\\dalpt\\AppData\\Local\\Programs\\Python\\Python310\\lib\\site-packages\\pvfactors\\viewfactors\\vfmethods.py:531: RuntimeWarning: invalid value encountered in true_divide\n",
      "  vf_1_to_2 = (d1 + d2 - l1 - l2) / (2. * width)\n",
      "C:\\Users\\dalpt\\AppData\\Local\\Programs\\Python\\Python310\\lib\\site-packages\\pvfactors\\viewfactors\\vfmethods.py:222: RuntimeWarning: invalid value encountered in true_divide\n",
      "  vf_i_to_j * length_i / length_j, 0.)\n",
      "C:\\Users\\dalpt\\AppData\\Local\\Programs\\Python\\Python310\\lib\\site-packages\\pvfactors\\viewfactors\\vfmethods.py:244: RuntimeWarning: invalid value encountered in true_divide\n",
      "  vf_i_to_j * length_i / length_j, 0.)\n",
      "C:\\Users\\dalpt\\AppData\\Local\\Programs\\Python\\Python310\\lib\\site-packages\\pvfactors\\viewfactors\\vfmethods.py:181: RuntimeWarning: invalid value encountered in true_divide\n",
      "  vf_pvrow_to_gnd_surf * pvrow_surf_length / gnd_surf_length, 0.)\n",
      "C:\\Users\\dalpt\\AppData\\Local\\Programs\\Python\\Python310\\lib\\site-packages\\pvfactors\\viewfactors\\vfmethods.py:181: RuntimeWarning: divide by zero encountered in true_divide\n",
      "  vf_pvrow_to_gnd_surf * pvrow_surf_length / gnd_surf_length, 0.)\n",
      "C:\\Users\\dalpt\\AppData\\Local\\Programs\\Python\\Python310\\lib\\site-packages\\pvfactors\\viewfactors\\vfmethods.py:607: RuntimeWarning: invalid value encountered in true_divide\n",
      "  vf_1_to_2 = np.abs(sum_2 - sum_1) / (2. * width_1)\n",
      "C:\\Users\\dalpt\\AppData\\Local\\Programs\\Python\\Python310\\lib\\site-packages\\pvfactors\\viewfactors\\vfmethods.py:531: RuntimeWarning: divide by zero encountered in true_divide\n",
      "  vf_1_to_2 = (d1 + d2 - l1 - l2) / (2. * width)\n",
      "C:\\Users\\dalpt\\AppData\\Local\\Programs\\Python\\Python310\\lib\\site-packages\\pvfactors\\viewfactors\\vfmethods.py:531: RuntimeWarning: invalid value encountered in true_divide\n",
      "  vf_1_to_2 = (d1 + d2 - l1 - l2) / (2. * width)\n",
      "C:\\Users\\dalpt\\AppData\\Local\\Programs\\Python\\Python310\\lib\\site-packages\\pvfactors\\viewfactors\\vfmethods.py:222: RuntimeWarning: invalid value encountered in true_divide\n",
      "  vf_i_to_j * length_i / length_j, 0.)\n",
      "C:\\Users\\dalpt\\AppData\\Local\\Programs\\Python\\Python310\\lib\\site-packages\\pvfactors\\viewfactors\\vfmethods.py:244: RuntimeWarning: invalid value encountered in true_divide\n",
      "  vf_i_to_j * length_i / length_j, 0.)\n",
      "C:\\Users\\dalpt\\AppData\\Local\\Programs\\Python\\Python310\\lib\\site-packages\\pvfactors\\viewfactors\\vfmethods.py:181: RuntimeWarning: invalid value encountered in true_divide\n",
      "  vf_pvrow_to_gnd_surf * pvrow_surf_length / gnd_surf_length, 0.)\n",
      "C:\\Users\\dalpt\\AppData\\Local\\Programs\\Python\\Python310\\lib\\site-packages\\pvfactors\\viewfactors\\vfmethods.py:181: RuntimeWarning: divide by zero encountered in true_divide\n",
      "  vf_pvrow_to_gnd_surf * pvrow_surf_length / gnd_surf_length, 0.)\n",
      "C:\\Users\\dalpt\\AppData\\Local\\Programs\\Python\\Python310\\lib\\site-packages\\pvfactors\\viewfactors\\vfmethods.py:607: RuntimeWarning: invalid value encountered in true_divide\n",
      "  vf_1_to_2 = np.abs(sum_2 - sum_1) / (2. * width_1)\n",
      "C:\\Users\\dalpt\\AppData\\Local\\Programs\\Python\\Python310\\lib\\site-packages\\pvfactors\\viewfactors\\vfmethods.py:531: RuntimeWarning: divide by zero encountered in true_divide\n",
      "  vf_1_to_2 = (d1 + d2 - l1 - l2) / (2. * width)\n",
      "C:\\Users\\dalpt\\AppData\\Local\\Programs\\Python\\Python310\\lib\\site-packages\\pvfactors\\viewfactors\\vfmethods.py:531: RuntimeWarning: invalid value encountered in true_divide\n",
      "  vf_1_to_2 = (d1 + d2 - l1 - l2) / (2. * width)\n",
      "C:\\Users\\dalpt\\AppData\\Local\\Programs\\Python\\Python310\\lib\\site-packages\\pvfactors\\viewfactors\\vfmethods.py:222: RuntimeWarning: invalid value encountered in true_divide\n",
      "  vf_i_to_j * length_i / length_j, 0.)\n",
      "C:\\Users\\dalpt\\AppData\\Local\\Programs\\Python\\Python310\\lib\\site-packages\\pvfactors\\viewfactors\\vfmethods.py:244: RuntimeWarning: invalid value encountered in true_divide\n",
      "  vf_i_to_j * length_i / length_j, 0.)\n",
      "C:\\Users\\dalpt\\AppData\\Local\\Programs\\Python\\Python310\\lib\\site-packages\\pvfactors\\viewfactors\\vfmethods.py:181: RuntimeWarning: invalid value encountered in true_divide\n",
      "  vf_pvrow_to_gnd_surf * pvrow_surf_length / gnd_surf_length, 0.)\n",
      "C:\\Users\\dalpt\\AppData\\Local\\Programs\\Python\\Python310\\lib\\site-packages\\pvfactors\\viewfactors\\vfmethods.py:181: RuntimeWarning: divide by zero encountered in true_divide\n",
      "  vf_pvrow_to_gnd_surf * pvrow_surf_length / gnd_surf_length, 0.)\n",
      "C:\\Users\\dalpt\\AppData\\Local\\Programs\\Python\\Python310\\lib\\site-packages\\pvfactors\\viewfactors\\vfmethods.py:607: RuntimeWarning: invalid value encountered in true_divide\n",
      "  vf_1_to_2 = np.abs(sum_2 - sum_1) / (2. * width_1)\n",
      "C:\\Users\\dalpt\\AppData\\Local\\Programs\\Python\\Python310\\lib\\site-packages\\pvfactors\\viewfactors\\vfmethods.py:531: RuntimeWarning: divide by zero encountered in true_divide\n",
      "  vf_1_to_2 = (d1 + d2 - l1 - l2) / (2. * width)\n",
      "C:\\Users\\dalpt\\AppData\\Local\\Programs\\Python\\Python310\\lib\\site-packages\\pvfactors\\viewfactors\\vfmethods.py:531: RuntimeWarning: invalid value encountered in true_divide\n",
      "  vf_1_to_2 = (d1 + d2 - l1 - l2) / (2. * width)\n",
      "C:\\Users\\dalpt\\AppData\\Local\\Programs\\Python\\Python310\\lib\\site-packages\\pvfactors\\viewfactors\\vfmethods.py:222: RuntimeWarning: invalid value encountered in true_divide\n",
      "  vf_i_to_j * length_i / length_j, 0.)\n",
      "C:\\Users\\dalpt\\AppData\\Local\\Programs\\Python\\Python310\\lib\\site-packages\\pvfactors\\viewfactors\\vfmethods.py:244: RuntimeWarning: invalid value encountered in true_divide\n",
      "  vf_i_to_j * length_i / length_j, 0.)\n",
      "C:\\Users\\dalpt\\AppData\\Local\\Programs\\Python\\Python310\\lib\\site-packages\\pvfactors\\viewfactors\\vfmethods.py:181: RuntimeWarning: invalid value encountered in true_divide\n",
      "  vf_pvrow_to_gnd_surf * pvrow_surf_length / gnd_surf_length, 0.)\n",
      "C:\\Users\\dalpt\\AppData\\Local\\Programs\\Python\\Python310\\lib\\site-packages\\pvfactors\\viewfactors\\vfmethods.py:181: RuntimeWarning: divide by zero encountered in true_divide\n",
      "  vf_pvrow_to_gnd_surf * pvrow_surf_length / gnd_surf_length, 0.)\n",
      "C:\\Users\\dalpt\\AppData\\Local\\Programs\\Python\\Python310\\lib\\site-packages\\pvfactors\\viewfactors\\vfmethods.py:607: RuntimeWarning: invalid value encountered in true_divide\n",
      "  vf_1_to_2 = np.abs(sum_2 - sum_1) / (2. * width_1)\n",
      "C:\\Users\\dalpt\\AppData\\Local\\Programs\\Python\\Python310\\lib\\site-packages\\pvfactors\\viewfactors\\vfmethods.py:531: RuntimeWarning: divide by zero encountered in true_divide\n",
      "  vf_1_to_2 = (d1 + d2 - l1 - l2) / (2. * width)\n",
      "C:\\Users\\dalpt\\AppData\\Local\\Programs\\Python\\Python310\\lib\\site-packages\\pvfactors\\viewfactors\\vfmethods.py:531: RuntimeWarning: invalid value encountered in true_divide\n",
      "  vf_1_to_2 = (d1 + d2 - l1 - l2) / (2. * width)\n",
      "C:\\Users\\dalpt\\AppData\\Local\\Programs\\Python\\Python310\\lib\\site-packages\\pvfactors\\viewfactors\\vfmethods.py:222: RuntimeWarning: invalid value encountered in true_divide\n",
      "  vf_i_to_j * length_i / length_j, 0.)\n",
      "C:\\Users\\dalpt\\AppData\\Local\\Programs\\Python\\Python310\\lib\\site-packages\\pvfactors\\viewfactors\\vfmethods.py:244: RuntimeWarning: invalid value encountered in true_divide\n",
      "  vf_i_to_j * length_i / length_j, 0.)\n",
      "C:\\Users\\dalpt\\AppData\\Local\\Programs\\Python\\Python310\\lib\\site-packages\\pvfactors\\viewfactors\\vfmethods.py:181: RuntimeWarning: invalid value encountered in true_divide\n",
      "  vf_pvrow_to_gnd_surf * pvrow_surf_length / gnd_surf_length, 0.)\n",
      "C:\\Users\\dalpt\\AppData\\Local\\Programs\\Python\\Python310\\lib\\site-packages\\pvfactors\\viewfactors\\vfmethods.py:181: RuntimeWarning: divide by zero encountered in true_divide\n",
      "  vf_pvrow_to_gnd_surf * pvrow_surf_length / gnd_surf_length, 0.)\n",
      "C:\\Users\\dalpt\\AppData\\Local\\Programs\\Python\\Python310\\lib\\site-packages\\pvfactors\\viewfactors\\vfmethods.py:607: RuntimeWarning: invalid value encountered in true_divide\n",
      "  vf_1_to_2 = np.abs(sum_2 - sum_1) / (2. * width_1)\n",
      "C:\\Users\\dalpt\\AppData\\Local\\Programs\\Python\\Python310\\lib\\site-packages\\pvfactors\\viewfactors\\vfmethods.py:531: RuntimeWarning: divide by zero encountered in true_divide\n",
      "  vf_1_to_2 = (d1 + d2 - l1 - l2) / (2. * width)\n",
      "C:\\Users\\dalpt\\AppData\\Local\\Programs\\Python\\Python310\\lib\\site-packages\\pvfactors\\viewfactors\\vfmethods.py:531: RuntimeWarning: invalid value encountered in true_divide\n",
      "  vf_1_to_2 = (d1 + d2 - l1 - l2) / (2. * width)\n",
      "C:\\Users\\dalpt\\AppData\\Local\\Programs\\Python\\Python310\\lib\\site-packages\\pvfactors\\viewfactors\\vfmethods.py:222: RuntimeWarning: invalid value encountered in true_divide\n",
      "  vf_i_to_j * length_i / length_j, 0.)\n",
      "C:\\Users\\dalpt\\AppData\\Local\\Programs\\Python\\Python310\\lib\\site-packages\\pvfactors\\viewfactors\\vfmethods.py:244: RuntimeWarning: invalid value encountered in true_divide\n",
      "  vf_i_to_j * length_i / length_j, 0.)\n",
      "C:\\Users\\dalpt\\AppData\\Local\\Programs\\Python\\Python310\\lib\\site-packages\\pvfactors\\viewfactors\\vfmethods.py:181: RuntimeWarning: invalid value encountered in true_divide\n",
      "  vf_pvrow_to_gnd_surf * pvrow_surf_length / gnd_surf_length, 0.)\n",
      "C:\\Users\\dalpt\\AppData\\Local\\Programs\\Python\\Python310\\lib\\site-packages\\pvfactors\\viewfactors\\vfmethods.py:181: RuntimeWarning: divide by zero encountered in true_divide\n",
      "  vf_pvrow_to_gnd_surf * pvrow_surf_length / gnd_surf_length, 0.)\n",
      "C:\\Users\\dalpt\\AppData\\Local\\Programs\\Python\\Python310\\lib\\site-packages\\pvfactors\\viewfactors\\vfmethods.py:607: RuntimeWarning: invalid value encountered in true_divide\n",
      "  vf_1_to_2 = np.abs(sum_2 - sum_1) / (2. * width_1)\n",
      "C:\\Users\\dalpt\\AppData\\Local\\Programs\\Python\\Python310\\lib\\site-packages\\pvfactors\\viewfactors\\vfmethods.py:531: RuntimeWarning: divide by zero encountered in true_divide\n",
      "  vf_1_to_2 = (d1 + d2 - l1 - l2) / (2. * width)\n",
      "C:\\Users\\dalpt\\AppData\\Local\\Programs\\Python\\Python310\\lib\\site-packages\\pvfactors\\viewfactors\\vfmethods.py:531: RuntimeWarning: invalid value encountered in true_divide\n",
      "  vf_1_to_2 = (d1 + d2 - l1 - l2) / (2. * width)\n",
      "C:\\Users\\dalpt\\AppData\\Local\\Programs\\Python\\Python310\\lib\\site-packages\\pvfactors\\viewfactors\\vfmethods.py:222: RuntimeWarning: invalid value encountered in true_divide\n",
      "  vf_i_to_j * length_i / length_j, 0.)\n",
      "C:\\Users\\dalpt\\AppData\\Local\\Programs\\Python\\Python310\\lib\\site-packages\\pvfactors\\viewfactors\\vfmethods.py:244: RuntimeWarning: invalid value encountered in true_divide\n",
      "  vf_i_to_j * length_i / length_j, 0.)\n",
      "C:\\Users\\dalpt\\AppData\\Local\\Programs\\Python\\Python310\\lib\\site-packages\\pvfactors\\viewfactors\\vfmethods.py:181: RuntimeWarning: invalid value encountered in true_divide\n",
      "  vf_pvrow_to_gnd_surf * pvrow_surf_length / gnd_surf_length, 0.)\n",
      "C:\\Users\\dalpt\\AppData\\Local\\Programs\\Python\\Python310\\lib\\site-packages\\pvfactors\\viewfactors\\vfmethods.py:181: RuntimeWarning: divide by zero encountered in true_divide\n",
      "  vf_pvrow_to_gnd_surf * pvrow_surf_length / gnd_surf_length, 0.)\n",
      "C:\\Users\\dalpt\\AppData\\Local\\Programs\\Python\\Python310\\lib\\site-packages\\pvfactors\\viewfactors\\vfmethods.py:607: RuntimeWarning: invalid value encountered in true_divide\n",
      "  vf_1_to_2 = np.abs(sum_2 - sum_1) / (2. * width_1)\n",
      "C:\\Users\\dalpt\\AppData\\Local\\Programs\\Python\\Python310\\lib\\site-packages\\pvfactors\\viewfactors\\vfmethods.py:531: RuntimeWarning: divide by zero encountered in true_divide\n",
      "  vf_1_to_2 = (d1 + d2 - l1 - l2) / (2. * width)\n",
      "C:\\Users\\dalpt\\AppData\\Local\\Programs\\Python\\Python310\\lib\\site-packages\\pvfactors\\viewfactors\\vfmethods.py:531: RuntimeWarning: invalid value encountered in true_divide\n",
      "  vf_1_to_2 = (d1 + d2 - l1 - l2) / (2. * width)\n",
      "C:\\Users\\dalpt\\AppData\\Local\\Programs\\Python\\Python310\\lib\\site-packages\\pvfactors\\viewfactors\\vfmethods.py:222: RuntimeWarning: invalid value encountered in true_divide\n",
      "  vf_i_to_j * length_i / length_j, 0.)\n",
      "C:\\Users\\dalpt\\AppData\\Local\\Programs\\Python\\Python310\\lib\\site-packages\\pvfactors\\viewfactors\\vfmethods.py:244: RuntimeWarning: invalid value encountered in true_divide\n",
      "  vf_i_to_j * length_i / length_j, 0.)\n",
      "C:\\Users\\dalpt\\AppData\\Local\\Programs\\Python\\Python310\\lib\\site-packages\\pvfactors\\viewfactors\\vfmethods.py:181: RuntimeWarning: invalid value encountered in true_divide\n",
      "  vf_pvrow_to_gnd_surf * pvrow_surf_length / gnd_surf_length, 0.)\n",
      "C:\\Users\\dalpt\\AppData\\Local\\Programs\\Python\\Python310\\lib\\site-packages\\pvfactors\\viewfactors\\vfmethods.py:181: RuntimeWarning: divide by zero encountered in true_divide\n",
      "  vf_pvrow_to_gnd_surf * pvrow_surf_length / gnd_surf_length, 0.)\n",
      "C:\\Users\\dalpt\\AppData\\Local\\Programs\\Python\\Python310\\lib\\site-packages\\pvfactors\\viewfactors\\vfmethods.py:607: RuntimeWarning: invalid value encountered in true_divide\n",
      "  vf_1_to_2 = np.abs(sum_2 - sum_1) / (2. * width_1)\n",
      "C:\\Users\\dalpt\\AppData\\Local\\Programs\\Python\\Python310\\lib\\site-packages\\pvfactors\\viewfactors\\vfmethods.py:531: RuntimeWarning: divide by zero encountered in true_divide\n",
      "  vf_1_to_2 = (d1 + d2 - l1 - l2) / (2. * width)\n",
      "C:\\Users\\dalpt\\AppData\\Local\\Programs\\Python\\Python310\\lib\\site-packages\\pvfactors\\viewfactors\\vfmethods.py:531: RuntimeWarning: invalid value encountered in true_divide\n",
      "  vf_1_to_2 = (d1 + d2 - l1 - l2) / (2. * width)\n",
      "C:\\Users\\dalpt\\AppData\\Local\\Programs\\Python\\Python310\\lib\\site-packages\\pvfactors\\viewfactors\\vfmethods.py:222: RuntimeWarning: invalid value encountered in true_divide\n",
      "  vf_i_to_j * length_i / length_j, 0.)\n",
      "C:\\Users\\dalpt\\AppData\\Local\\Programs\\Python\\Python310\\lib\\site-packages\\pvfactors\\viewfactors\\vfmethods.py:244: RuntimeWarning: invalid value encountered in true_divide\n",
      "  vf_i_to_j * length_i / length_j, 0.)\n",
      "C:\\Users\\dalpt\\AppData\\Local\\Programs\\Python\\Python310\\lib\\site-packages\\pvfactors\\viewfactors\\vfmethods.py:181: RuntimeWarning: invalid value encountered in true_divide\n",
      "  vf_pvrow_to_gnd_surf * pvrow_surf_length / gnd_surf_length, 0.)\n",
      "C:\\Users\\dalpt\\AppData\\Local\\Programs\\Python\\Python310\\lib\\site-packages\\pvfactors\\viewfactors\\vfmethods.py:181: RuntimeWarning: divide by zero encountered in true_divide\n",
      "  vf_pvrow_to_gnd_surf * pvrow_surf_length / gnd_surf_length, 0.)\n",
      "C:\\Users\\dalpt\\AppData\\Local\\Programs\\Python\\Python310\\lib\\site-packages\\pvfactors\\viewfactors\\vfmethods.py:607: RuntimeWarning: invalid value encountered in true_divide\n",
      "  vf_1_to_2 = np.abs(sum_2 - sum_1) / (2. * width_1)\n",
      "C:\\Users\\dalpt\\AppData\\Local\\Programs\\Python\\Python310\\lib\\site-packages\\pvfactors\\viewfactors\\vfmethods.py:531: RuntimeWarning: divide by zero encountered in true_divide\n",
      "  vf_1_to_2 = (d1 + d2 - l1 - l2) / (2. * width)\n",
      "C:\\Users\\dalpt\\AppData\\Local\\Programs\\Python\\Python310\\lib\\site-packages\\pvfactors\\viewfactors\\vfmethods.py:531: RuntimeWarning: invalid value encountered in true_divide\n",
      "  vf_1_to_2 = (d1 + d2 - l1 - l2) / (2. * width)\n",
      "C:\\Users\\dalpt\\AppData\\Local\\Programs\\Python\\Python310\\lib\\site-packages\\pvfactors\\viewfactors\\vfmethods.py:222: RuntimeWarning: invalid value encountered in true_divide\n",
      "  vf_i_to_j * length_i / length_j, 0.)\n",
      "C:\\Users\\dalpt\\AppData\\Local\\Programs\\Python\\Python310\\lib\\site-packages\\pvfactors\\viewfactors\\vfmethods.py:244: RuntimeWarning: invalid value encountered in true_divide\n",
      "  vf_i_to_j * length_i / length_j, 0.)\n",
      "C:\\Users\\dalpt\\AppData\\Local\\Programs\\Python\\Python310\\lib\\site-packages\\pvfactors\\viewfactors\\vfmethods.py:181: RuntimeWarning: invalid value encountered in true_divide\n",
      "  vf_pvrow_to_gnd_surf * pvrow_surf_length / gnd_surf_length, 0.)\n",
      "C:\\Users\\dalpt\\AppData\\Local\\Programs\\Python\\Python310\\lib\\site-packages\\pvfactors\\viewfactors\\vfmethods.py:181: RuntimeWarning: divide by zero encountered in true_divide\n",
      "  vf_pvrow_to_gnd_surf * pvrow_surf_length / gnd_surf_length, 0.)\n",
      "C:\\Users\\dalpt\\AppData\\Local\\Programs\\Python\\Python310\\lib\\site-packages\\pvfactors\\viewfactors\\vfmethods.py:607: RuntimeWarning: invalid value encountered in true_divide\n",
      "  vf_1_to_2 = np.abs(sum_2 - sum_1) / (2. * width_1)\n",
      "C:\\Users\\dalpt\\AppData\\Local\\Programs\\Python\\Python310\\lib\\site-packages\\pvfactors\\viewfactors\\vfmethods.py:531: RuntimeWarning: divide by zero encountered in true_divide\n",
      "  vf_1_to_2 = (d1 + d2 - l1 - l2) / (2. * width)\n",
      "C:\\Users\\dalpt\\AppData\\Local\\Programs\\Python\\Python310\\lib\\site-packages\\pvfactors\\viewfactors\\vfmethods.py:531: RuntimeWarning: invalid value encountered in true_divide\n",
      "  vf_1_to_2 = (d1 + d2 - l1 - l2) / (2. * width)\n",
      "C:\\Users\\dalpt\\AppData\\Local\\Programs\\Python\\Python310\\lib\\site-packages\\pvfactors\\viewfactors\\vfmethods.py:222: RuntimeWarning: invalid value encountered in true_divide\n",
      "  vf_i_to_j * length_i / length_j, 0.)\n",
      "C:\\Users\\dalpt\\AppData\\Local\\Programs\\Python\\Python310\\lib\\site-packages\\pvfactors\\viewfactors\\vfmethods.py:244: RuntimeWarning: invalid value encountered in true_divide\n",
      "  vf_i_to_j * length_i / length_j, 0.)\n",
      "C:\\Users\\dalpt\\AppData\\Local\\Programs\\Python\\Python310\\lib\\site-packages\\pvfactors\\viewfactors\\vfmethods.py:181: RuntimeWarning: invalid value encountered in true_divide\n",
      "  vf_pvrow_to_gnd_surf * pvrow_surf_length / gnd_surf_length, 0.)\n",
      "C:\\Users\\dalpt\\AppData\\Local\\Programs\\Python\\Python310\\lib\\site-packages\\pvfactors\\viewfactors\\vfmethods.py:181: RuntimeWarning: divide by zero encountered in true_divide\n",
      "  vf_pvrow_to_gnd_surf * pvrow_surf_length / gnd_surf_length, 0.)\n",
      "C:\\Users\\dalpt\\AppData\\Local\\Programs\\Python\\Python310\\lib\\site-packages\\pvfactors\\viewfactors\\vfmethods.py:607: RuntimeWarning: invalid value encountered in true_divide\n",
      "  vf_1_to_2 = np.abs(sum_2 - sum_1) / (2. * width_1)\n",
      "C:\\Users\\dalpt\\AppData\\Local\\Programs\\Python\\Python310\\lib\\site-packages\\pvfactors\\viewfactors\\vfmethods.py:531: RuntimeWarning: divide by zero encountered in true_divide\n",
      "  vf_1_to_2 = (d1 + d2 - l1 - l2) / (2. * width)\n",
      "C:\\Users\\dalpt\\AppData\\Local\\Programs\\Python\\Python310\\lib\\site-packages\\pvfactors\\viewfactors\\vfmethods.py:531: RuntimeWarning: invalid value encountered in true_divide\n",
      "  vf_1_to_2 = (d1 + d2 - l1 - l2) / (2. * width)\n",
      "C:\\Users\\dalpt\\AppData\\Local\\Programs\\Python\\Python310\\lib\\site-packages\\pvfactors\\viewfactors\\vfmethods.py:222: RuntimeWarning: invalid value encountered in true_divide\n",
      "  vf_i_to_j * length_i / length_j, 0.)\n",
      "C:\\Users\\dalpt\\AppData\\Local\\Programs\\Python\\Python310\\lib\\site-packages\\pvfactors\\viewfactors\\vfmethods.py:244: RuntimeWarning: invalid value encountered in true_divide\n",
      "  vf_i_to_j * length_i / length_j, 0.)\n",
      "C:\\Users\\dalpt\\AppData\\Local\\Programs\\Python\\Python310\\lib\\site-packages\\pvfactors\\viewfactors\\vfmethods.py:181: RuntimeWarning: invalid value encountered in true_divide\n",
      "  vf_pvrow_to_gnd_surf * pvrow_surf_length / gnd_surf_length, 0.)\n",
      "C:\\Users\\dalpt\\AppData\\Local\\Programs\\Python\\Python310\\lib\\site-packages\\pvfactors\\viewfactors\\vfmethods.py:181: RuntimeWarning: divide by zero encountered in true_divide\n",
      "  vf_pvrow_to_gnd_surf * pvrow_surf_length / gnd_surf_length, 0.)\n",
      "C:\\Users\\dalpt\\AppData\\Local\\Programs\\Python\\Python310\\lib\\site-packages\\pvfactors\\viewfactors\\vfmethods.py:607: RuntimeWarning: invalid value encountered in true_divide\n",
      "  vf_1_to_2 = np.abs(sum_2 - sum_1) / (2. * width_1)\n",
      "C:\\Users\\dalpt\\AppData\\Local\\Programs\\Python\\Python310\\lib\\site-packages\\pvfactors\\viewfactors\\vfmethods.py:531: RuntimeWarning: divide by zero encountered in true_divide\n",
      "  vf_1_to_2 = (d1 + d2 - l1 - l2) / (2. * width)\n",
      "C:\\Users\\dalpt\\AppData\\Local\\Programs\\Python\\Python310\\lib\\site-packages\\pvfactors\\viewfactors\\vfmethods.py:531: RuntimeWarning: invalid value encountered in true_divide\n",
      "  vf_1_to_2 = (d1 + d2 - l1 - l2) / (2. * width)\n",
      "C:\\Users\\dalpt\\AppData\\Local\\Programs\\Python\\Python310\\lib\\site-packages\\pvfactors\\viewfactors\\vfmethods.py:222: RuntimeWarning: invalid value encountered in true_divide\n",
      "  vf_i_to_j * length_i / length_j, 0.)\n",
      "C:\\Users\\dalpt\\AppData\\Local\\Programs\\Python\\Python310\\lib\\site-packages\\pvfactors\\viewfactors\\vfmethods.py:244: RuntimeWarning: invalid value encountered in true_divide\n",
      "  vf_i_to_j * length_i / length_j, 0.)\n",
      "C:\\Users\\dalpt\\AppData\\Local\\Programs\\Python\\Python310\\lib\\site-packages\\pvfactors\\viewfactors\\vfmethods.py:181: RuntimeWarning: invalid value encountered in true_divide\n",
      "  vf_pvrow_to_gnd_surf * pvrow_surf_length / gnd_surf_length, 0.)\n",
      "C:\\Users\\dalpt\\AppData\\Local\\Programs\\Python\\Python310\\lib\\site-packages\\pvfactors\\viewfactors\\vfmethods.py:181: RuntimeWarning: divide by zero encountered in true_divide\n",
      "  vf_pvrow_to_gnd_surf * pvrow_surf_length / gnd_surf_length, 0.)\n",
      "C:\\Users\\dalpt\\AppData\\Local\\Programs\\Python\\Python310\\lib\\site-packages\\pvfactors\\viewfactors\\vfmethods.py:607: RuntimeWarning: invalid value encountered in true_divide\n",
      "  vf_1_to_2 = np.abs(sum_2 - sum_1) / (2. * width_1)\n",
      "C:\\Users\\dalpt\\AppData\\Local\\Programs\\Python\\Python310\\lib\\site-packages\\pvfactors\\viewfactors\\vfmethods.py:531: RuntimeWarning: divide by zero encountered in true_divide\n",
      "  vf_1_to_2 = (d1 + d2 - l1 - l2) / (2. * width)\n",
      "C:\\Users\\dalpt\\AppData\\Local\\Programs\\Python\\Python310\\lib\\site-packages\\pvfactors\\viewfactors\\vfmethods.py:531: RuntimeWarning: invalid value encountered in true_divide\n",
      "  vf_1_to_2 = (d1 + d2 - l1 - l2) / (2. * width)\n",
      "C:\\Users\\dalpt\\AppData\\Local\\Programs\\Python\\Python310\\lib\\site-packages\\pvfactors\\viewfactors\\vfmethods.py:222: RuntimeWarning: invalid value encountered in true_divide\n",
      "  vf_i_to_j * length_i / length_j, 0.)\n",
      "C:\\Users\\dalpt\\AppData\\Local\\Programs\\Python\\Python310\\lib\\site-packages\\pvfactors\\viewfactors\\vfmethods.py:244: RuntimeWarning: invalid value encountered in true_divide\n",
      "  vf_i_to_j * length_i / length_j, 0.)\n",
      "C:\\Users\\dalpt\\AppData\\Local\\Programs\\Python\\Python310\\lib\\site-packages\\pvfactors\\viewfactors\\vfmethods.py:181: RuntimeWarning: invalid value encountered in true_divide\n",
      "  vf_pvrow_to_gnd_surf * pvrow_surf_length / gnd_surf_length, 0.)\n",
      "C:\\Users\\dalpt\\AppData\\Local\\Programs\\Python\\Python310\\lib\\site-packages\\pvfactors\\viewfactors\\vfmethods.py:181: RuntimeWarning: divide by zero encountered in true_divide\n",
      "  vf_pvrow_to_gnd_surf * pvrow_surf_length / gnd_surf_length, 0.)\n",
      "C:\\Users\\dalpt\\AppData\\Local\\Programs\\Python\\Python310\\lib\\site-packages\\pvfactors\\viewfactors\\vfmethods.py:607: RuntimeWarning: invalid value encountered in true_divide\n",
      "  vf_1_to_2 = np.abs(sum_2 - sum_1) / (2. * width_1)\n",
      "C:\\Users\\dalpt\\AppData\\Local\\Programs\\Python\\Python310\\lib\\site-packages\\pvfactors\\viewfactors\\vfmethods.py:531: RuntimeWarning: divide by zero encountered in true_divide\n",
      "  vf_1_to_2 = (d1 + d2 - l1 - l2) / (2. * width)\n",
      "C:\\Users\\dalpt\\AppData\\Local\\Programs\\Python\\Python310\\lib\\site-packages\\pvfactors\\viewfactors\\vfmethods.py:531: RuntimeWarning: invalid value encountered in true_divide\n",
      "  vf_1_to_2 = (d1 + d2 - l1 - l2) / (2. * width)\n",
      "C:\\Users\\dalpt\\AppData\\Local\\Programs\\Python\\Python310\\lib\\site-packages\\pvfactors\\viewfactors\\vfmethods.py:222: RuntimeWarning: invalid value encountered in true_divide\n",
      "  vf_i_to_j * length_i / length_j, 0.)\n",
      "C:\\Users\\dalpt\\AppData\\Local\\Programs\\Python\\Python310\\lib\\site-packages\\pvfactors\\viewfactors\\vfmethods.py:244: RuntimeWarning: invalid value encountered in true_divide\n",
      "  vf_i_to_j * length_i / length_j, 0.)\n"
     ]
    }
   ],
   "source": [
    "\n",
    "poa_back_mat=[]\n",
    "irrads=[]\n",
    "dcs=[]\n",
    "dcmeans=[]\n",
    "acprod=[]\n",
    "ac=[]\n",
    "hs=[]\n",
    "gcrs=[]\n",
    "prods=[]\n",
    "Puntos_sol=[]\n",
    "prodsi=[]\n",
    "n=0\n",
    "for Punto in Puntos:\n",
    "    \n",
    "    h=Punto[0]\n",
    "    gcr=Punto[1]\n",
    "\n",
    "    poa_fronti,poa_backi,poa_frontabsorbi,poa_backabsorbi = pvlib.bifacial.pvfactors_timeseries(surface_tilt=tracker.surface_tilt, \n",
    "                                                                        surface_azimuth=tracker.surface_azimuth, \n",
    "                                                                        solar_zenith=solpos.zenith, \n",
    "                                                                        solar_azimuth=solpos.azimuth, \n",
    "                                                                        axis_azimuth=axis_azimuth,\n",
    "                                                                        timestamps=tmy.index,\n",
    "                                                                        dni=tmy.dni, \n",
    "                                                                        dhi=tmy.dhi,\n",
    "                                                                        gcr=gcr,\n",
    "                                                                        pvrow_height=h,\n",
    "                                                                        pvrow_width=2*pvrow_width,\n",
    "                                                                        #albedo=surface_albedo,\n",
    "                                                                        albedo=albedo, \n",
    "                                                                        n_pvrows=3,\n",
    "                                                                        index_observed_pvrow=1,\n",
    "                                                                        rho_back_pvrow=0.05,\n",
    "                                                                        rho_front_pvrow=0.03,\n",
    "                                                                        horizon_band_angle=15)\n",
    "\n",
    "    poa_back_mat.append(poa_backabsorbi)\n",
    "    irradi=irrad_total_bifacial(poa_frontabsorbi,\n",
    "                     poa_backabsorbi,bifacialty)\n",
    "    irrads.append(irradi)\n",
    "    dc=dc_production(irradi,temp_cell,module,system_A)\n",
    "    dc=losses(dc,20)\n",
    "    dcs.append(dc)\n",
    "    dc_mean=dc.resample(\"7D\").mean()\n",
    "    dcmeans.append(dc_mean)\n",
    "    aci=pvlib_ac_power(dc,inverterx,)\n",
    "    ac.append(aci)\n",
    "    acprodi=aci.sum()\n",
    "    acprod.append(acprodi/1000000000)\n",
    "    Punto.append(acprodi/1000000000)\n",
    "    Puntos_sol.append(Punto)\n",
    "    hs.append(h)\n",
    "    gcrs.append(gcr)\n",
    "    prodsi.append(acprodi/1000000000)\n",
    "    \n",
    "    n+=1\n",
    "    if n==Dimension:\n",
    "        \n",
    "        prods.append(prodsi)\n",
    "        prodsi=[]\n",
    "        n=0\n",
    "    \n"
   ]
  },
  {
   "cell_type": "markdown",
   "metadata": {},
   "source": [
    "## Gráficas"
   ]
  },
  {
   "cell_type": "code",
   "execution_count": 18,
   "metadata": {},
   "outputs": [
    {
     "data": {
      "image/png": "[encoded data removed]",
      "text/plain": [
       "<Figure size 432x288 with 1 Axes>"
      ]
     },
     "metadata": {
      "needs_background": "light"
     },
     "output_type": "display_data"
    }
   ],
   "source": [
    "for i in range(2):\n",
    "    poa=poa_back_mat[5-i]\n",
    "    \n",
    "    poa.plot()"
   ]
  },
  {
   "cell_type": "code",
   "execution_count": 19,
   "metadata": {},
   "outputs": [
    {
     "data": {
      "image/png": "[encoded data removed]",
      "text/plain": [
       "<Figure size 432x288 with 1 Axes>"
      ]
     },
     "metadata": {
      "needs_background": "light"
     },
     "output_type": "display_data"
    }
   ],
   "source": [
    "for i in range(6):\n",
    "    dcmeans[5-i][\"p_mp\"].plot()"
   ]
  },
  {
   "cell_type": "code",
   "execution_count": 20,
   "metadata": {},
   "outputs": [
    {
     "data": {
      "image/png": "[encoded data removed]",
      "text/plain": [
       "<Figure size 432x288 with 2 Axes>"
      ]
     },
     "metadata": {
      "needs_background": "light"
     },
     "output_type": "display_data"
    }
   ],
   "source": [
    "x=pd.DataFrame(prods)\n",
    "plt.contourf([0.15,0.25,0.5,0.75],[1,1.5,2,2.5],prods)\n",
    "title='Efecto altura y vs Energía producida'\n",
    "ylabel='Altura [m]'\n",
    "xlabel='gcr '\n",
    "plt.title(title, fontsize=15)\n",
    "plt.ylabel(ylabel, fontsize=13)\n",
    "plt.xlabel(xlabel, fontsize=13)\n",
    "cb=plt.colorbar()\n",
    "cb.set_label(\"GWh/Año\")"
   ]
  },
  {
   "cell_type": "markdown",
   "metadata": {},
   "source": [
    "# Estimación de LCOE"
   ]
  },
  {
   "cell_type": "markdown",
   "metadata": {},
   "source": [
    "## Parametros del LCOE"
   ]
  },
  {
   "cell_type": "code",
   "execution_count": 21,
   "metadata": {},
   "outputs": [],
   "source": [
    "#Calculo C_M\n",
    "P_modulo=1                      #cop\n",
    "Area=module.A_c                          #m^2\n",
    "P_r_v=2                         #Cop/m^2\n",
    "P_r_f=2                         #Cop/m         \n",
    "P_rack=2                        #Cop/modulo\n",
    "M_Extra=0                       #Cop/modulo\n",
    "\n",
    "\n",
    "#Calculo C_L\n",
    "P_tierra=1                      #Cop/m^2\n",
    "T_extra=2                       #Cop/m^2\n",
    "\n",
    "#Inversión\n",
    "\n"
   ]
  },
  {
   "cell_type": "markdown",
   "metadata": {},
   "source": [
    "## Código "
   ]
  },
  {
   "cell_type": "code",
   "execution_count": 39,
   "metadata": {},
   "outputs": [],
   "source": [
    "LCOEs=[]\n",
    "LCOEsi=[]\n",
    "i=0\n",
    "\n",
    "for PuntoS in Puntos_sol:\n",
    "    h=PuntoS[0]\n",
    "    gcr=PuntoS[1]\n",
    "    Prodac=PuntoS[2]\n",
    "    Prodacnorm=Prodac*1000000000/(mps_A*spi_A*Area)\n",
    "    Ptot_rack=P_rack+P_r_v*h\n",
    "    C_m=(P_modulo+P_rack+M_Extra)/Area      #Cop/m^2\n",
    "    C_l=P_tierra+T_extra\n",
    "    \n",
    "    #M_m=C_m/C_l\n",
    "    \"Provisionalmente\"\n",
    "    M_m=14000\n",
    "    C_l=1000\n",
    "    LCOE_star_i=(M_m+(1/gcr))/(Prodacnorm)*C_l\n",
    "    i+=1\n",
    "    \n",
    "    LCOEsi.append(LCOE_star_i)\n",
    "    if i==Dimension:\n",
    "        \n",
    "        LCOEs.append(LCOEsi)\n",
    "        LCOEsi=[]\n",
    "        i=0"
   ]
  },
  {
   "cell_type": "markdown",
   "metadata": {},
   "source": [
    "## Gráficas"
   ]
  },
  {
   "cell_type": "code",
   "execution_count": 40,
   "metadata": {},
   "outputs": [
    {
     "data": {
      "image/png": "[encoded data removed]",
      "text/plain": [
       "<Figure size 432x288 with 2 Axes>"
      ]
     },
     "metadata": {
      "needs_background": "light"
     },
     "output_type": "display_data"
    }
   ],
   "source": [
    "\n",
    "plt.contourf([0.15,0.25,0.5,0.75],[1,1.5,2,2.5],LCOEs)\n",
    "title='Efecto altura y vs LCOE'\n",
    "ylabel='Altura [m]'\n",
    "xlabel='gcr '\n",
    "plt.title(title, fontsize=15)\n",
    "plt.ylabel(ylabel, fontsize=13)\n",
    "plt.xlabel(xlabel, fontsize=13)\n",
    "cb=plt.colorbar()\n",
    "cb.set_label(\"GWh/Año\")"
   ]
  }
 ],
 "metadata": {
  "interpreter": {
   "hash": "a9b574fd94a41fbff28ccc534e87441c8dfbe807f389b95e97501b415ab22d18"
  },
  "kernelspec": {
   "display_name": "Python 3.10.2 64-bit",
   "language": "python",
   "name": "python3"
  },
  "language_info": {
   "codemirror_mode": {
    "name": "ipython",
    "version": 3
   },
   "file_extension": ".py",
   "mimetype": "text/x-python",
   "name": "python",
   "nbconvert_exporter": "python",
   "pygments_lexer": "ipython3",
   "version": "3.10.2"
  },
  "orig_nbformat": 4
 },
 "nbformat": 4,
 "nbformat_minor": 2
}
